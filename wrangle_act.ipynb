{
 "cells": [
  {
   "cell_type": "markdown",
   "metadata": {},
   "source": [
    "# Data Wrangling on COVID-19 Data"
   ]
  },
  {
   "cell_type": "markdown",
   "metadata": {},
   "source": [
    "## Purpose of Analysis\n",
    "In this project, I will focus on the exploration side of the analysis to examine the spread of corona virus in the world. My exploration will be divided into three parts:\n",
    "\n",
    "#### Part 1 - Explore the Countries of the World\n",
    "I am interested in the following variables\n",
    "- The total number of cases per country\n",
    "- The total number of deaths per country\n",
    "- The total number of cases per country divided by the number of population, which I will call **case ratio** \n",
    "- The total number of deaths per country divided by the total number of cases for that country, which I will call **death ratio**\n",
    "\n",
    "For explanatory purpose, I will plot the world map for each variable above to see how the values vary among the countries. I will also plot a bar chart for each variable above to show the top ten affected countries. \n",
    "\n",
    "I am also interested to see the progress of the daily cases and deaths over time, so I will create a line chart to achieve that.\n",
    "\n",
    "#### Part 2 - Find the Relationship between the Number of Total Cases and Population Density\n",
    "In this part, I would like to answer a question whether a relationship exists between the population density and number of total cases. My initial assumption is that as the population density increases, the total number of cases increases due to higher infection possibility.\n",
    "\n",
    "\n",
    "#### Part 3 - Explore the Arab world\n",
    "Here, I will create bar charts as in step 1 but only for Arab world countries. I will also look at the progress of cases and deaths for each country using `sns.FacetGrid`. Finally, I will create a line chart of daily cases for the top five Arab world countries"
   ]
  },
  {
   "cell_type": "code",
   "execution_count": 1,
   "metadata": {},
   "outputs": [],
   "source": [
    "# import necessary libraries\n",
    "import pandas as pd\n",
    "import numpy as np\n",
    "import geopandas as gpd"
   ]
  },
  {
   "cell_type": "markdown",
   "metadata": {},
   "source": [
    "## Gather"
   ]
  },
  {
   "cell_type": "markdown",
   "metadata": {},
   "source": [
    "The main file I worked on throughout this analysis was a remote file saved in `url` variable below. However, by July 31, 2020 as I am wrapping up my analysis, it won't be practical to keep working on this remote file due to possible updates or corruption. Therefore, I ran the file and saved it to a local disk `raw_data_07_31_2020.csv`. So now, I am going to work on it."
   ]
  },
  {
   "cell_type": "code",
   "execution_count": 2,
   "metadata": {},
   "outputs": [],
   "source": [
    "# this is the remote file which was saved on 7/31/2020 to 'raw_data_07_31_20.csv'\n",
    "url = 'https://opendata.ecdc.europa.eu/covid19/casedistribution/csv' \n",
    "\n",
    "# reading the main file after saving it from the remote file above\n",
    "data = pd.read_csv('raw_data_07_31_20.csv') # this is the saved file to use in this notebook"
   ]
  },
  {
   "cell_type": "code",
   "execution_count": 3,
   "metadata": {},
   "outputs": [],
   "source": [
    "# read csv file of the countries (downloaded manually from kaggle)\n",
    "ctrys_data = pd.read_csv('ctrys_pop.csv', engine = 'python')"
   ]
  },
  {
   "cell_type": "code",
   "execution_count": 4,
   "metadata": {},
   "outputs": [],
   "source": [
    "# read the world map online from geopandas documentation\n",
    "world_map = gpd.read_file(gpd.datasets.get_path('naturalearth_lowres'))"
   ]
  },
  {
   "cell_type": "markdown",
   "metadata": {},
   "source": [
    "## Assess\n",
    "### `data` DataFrame\n",
    "- This is the main file. I am interested in the following variables: `dateRep`, `cases`, `deaths`, `countriesAndTerritories`, `geoId`, `countryterritoryCode`, and `continentExp`. "
   ]
  },
  {
   "cell_type": "code",
   "execution_count": 5,
   "metadata": {},
   "outputs": [
    {
     "data": {
      "text/html": [
       "<div>\n",
       "<style scoped>\n",
       "    .dataframe tbody tr th:only-of-type {\n",
       "        vertical-align: middle;\n",
       "    }\n",
       "\n",
       "    .dataframe tbody tr th {\n",
       "        vertical-align: top;\n",
       "    }\n",
       "\n",
       "    .dataframe thead th {\n",
       "        text-align: right;\n",
       "    }\n",
       "</style>\n",
       "<table border=\"1\" class=\"dataframe\">\n",
       "  <thead>\n",
       "    <tr style=\"text-align: right;\">\n",
       "      <th></th>\n",
       "      <th>dateRep</th>\n",
       "      <th>day</th>\n",
       "      <th>month</th>\n",
       "      <th>year</th>\n",
       "      <th>cases</th>\n",
       "      <th>deaths</th>\n",
       "      <th>countriesAndTerritories</th>\n",
       "      <th>geoId</th>\n",
       "      <th>countryterritoryCode</th>\n",
       "      <th>popData2019</th>\n",
       "      <th>continentExp</th>\n",
       "      <th>Cumulative_number_for_14_days_of_COVID-19_cases_per_100000</th>\n",
       "    </tr>\n",
       "  </thead>\n",
       "  <tbody>\n",
       "    <tr>\n",
       "      <th>0</th>\n",
       "      <td>31/07/2020</td>\n",
       "      <td>31</td>\n",
       "      <td>7</td>\n",
       "      <td>2020</td>\n",
       "      <td>71</td>\n",
       "      <td>0</td>\n",
       "      <td>Afghanistan</td>\n",
       "      <td>AF</td>\n",
       "      <td>AFG</td>\n",
       "      <td>38041757.0</td>\n",
       "      <td>Asia</td>\n",
       "      <td>3.869432</td>\n",
       "    </tr>\n",
       "    <tr>\n",
       "      <th>1</th>\n",
       "      <td>30/07/2020</td>\n",
       "      <td>30</td>\n",
       "      <td>7</td>\n",
       "      <td>2020</td>\n",
       "      <td>0</td>\n",
       "      <td>0</td>\n",
       "      <td>Afghanistan</td>\n",
       "      <td>AF</td>\n",
       "      <td>AFG</td>\n",
       "      <td>38041757.0</td>\n",
       "      <td>Asia</td>\n",
       "      <td>3.882576</td>\n",
       "    </tr>\n",
       "    <tr>\n",
       "      <th>2</th>\n",
       "      <td>29/07/2020</td>\n",
       "      <td>29</td>\n",
       "      <td>7</td>\n",
       "      <td>2020</td>\n",
       "      <td>103</td>\n",
       "      <td>1</td>\n",
       "      <td>Afghanistan</td>\n",
       "      <td>AF</td>\n",
       "      <td>AFG</td>\n",
       "      <td>38041757.0</td>\n",
       "      <td>Asia</td>\n",
       "      <td>4.550263</td>\n",
       "    </tr>\n",
       "    <tr>\n",
       "      <th>3</th>\n",
       "      <td>28/07/2020</td>\n",
       "      <td>28</td>\n",
       "      <td>7</td>\n",
       "      <td>2020</td>\n",
       "      <td>105</td>\n",
       "      <td>1</td>\n",
       "      <td>Afghanistan</td>\n",
       "      <td>AF</td>\n",
       "      <td>AFG</td>\n",
       "      <td>38041757.0</td>\n",
       "      <td>Asia</td>\n",
       "      <td>5.028685</td>\n",
       "    </tr>\n",
       "    <tr>\n",
       "      <th>4</th>\n",
       "      <td>27/07/2020</td>\n",
       "      <td>27</td>\n",
       "      <td>7</td>\n",
       "      <td>2020</td>\n",
       "      <td>106</td>\n",
       "      <td>10</td>\n",
       "      <td>Afghanistan</td>\n",
       "      <td>AF</td>\n",
       "      <td>AFG</td>\n",
       "      <td>38041757.0</td>\n",
       "      <td>Asia</td>\n",
       "      <td>4.763187</td>\n",
       "    </tr>\n",
       "  </tbody>\n",
       "</table>\n",
       "</div>"
      ],
      "text/plain": [
       "      dateRep  day  month  year  cases  deaths countriesAndTerritories geoId  \\\n",
       "0  31/07/2020   31      7  2020     71       0             Afghanistan    AF   \n",
       "1  30/07/2020   30      7  2020      0       0             Afghanistan    AF   \n",
       "2  29/07/2020   29      7  2020    103       1             Afghanistan    AF   \n",
       "3  28/07/2020   28      7  2020    105       1             Afghanistan    AF   \n",
       "4  27/07/2020   27      7  2020    106      10             Afghanistan    AF   \n",
       "\n",
       "  countryterritoryCode  popData2019 continentExp  \\\n",
       "0                  AFG   38041757.0         Asia   \n",
       "1                  AFG   38041757.0         Asia   \n",
       "2                  AFG   38041757.0         Asia   \n",
       "3                  AFG   38041757.0         Asia   \n",
       "4                  AFG   38041757.0         Asia   \n",
       "\n",
       "   Cumulative_number_for_14_days_of_COVID-19_cases_per_100000  \n",
       "0                                           3.869432           \n",
       "1                                           3.882576           \n",
       "2                                           4.550263           \n",
       "3                                           5.028685           \n",
       "4                                           4.763187           "
      ]
     },
     "execution_count": 5,
     "metadata": {},
     "output_type": "execute_result"
    }
   ],
   "source": [
    "data.head()"
   ]
  },
  {
   "cell_type": "code",
   "execution_count": 6,
   "metadata": {},
   "outputs": [
    {
     "data": {
      "text/plain": [
       "(33268, 12)"
      ]
     },
     "execution_count": 6,
     "metadata": {},
     "output_type": "execute_result"
    }
   ],
   "source": [
    "data.shape"
   ]
  },
  {
   "cell_type": "code",
   "execution_count": 7,
   "metadata": {},
   "outputs": [
    {
     "name": "stdout",
     "output_type": "stream",
     "text": [
      "<class 'pandas.core.frame.DataFrame'>\n",
      "RangeIndex: 33268 entries, 0 to 33267\n",
      "Data columns (total 12 columns):\n",
      " #   Column                                                      Non-Null Count  Dtype  \n",
      "---  ------                                                      --------------  -----  \n",
      " 0   dateRep                                                     33268 non-null  object \n",
      " 1   day                                                         33268 non-null  int64  \n",
      " 2   month                                                       33268 non-null  int64  \n",
      " 3   year                                                        33268 non-null  int64  \n",
      " 4   cases                                                       33268 non-null  int64  \n",
      " 5   deaths                                                      33268 non-null  int64  \n",
      " 6   countriesAndTerritories                                     33268 non-null  object \n",
      " 7   geoId                                                       33129 non-null  object \n",
      " 8   countryterritoryCode                                        33204 non-null  object \n",
      " 9   popData2019                                                 33204 non-null  float64\n",
      " 10  continentExp                                                33268 non-null  object \n",
      " 11  Cumulative_number_for_14_days_of_COVID-19_cases_per_100000  30487 non-null  float64\n",
      "dtypes: float64(2), int64(5), object(5)\n",
      "memory usage: 3.0+ MB\n"
     ]
    }
   ],
   "source": [
    "data.info()"
   ]
  },
  {
   "cell_type": "code",
   "execution_count": 8,
   "metadata": {},
   "outputs": [
    {
     "data": {
      "text/plain": [
       "dateRep                                                          0\n",
       "day                                                              0\n",
       "month                                                            0\n",
       "year                                                             0\n",
       "cases                                                            0\n",
       "deaths                                                           0\n",
       "countriesAndTerritories                                          0\n",
       "geoId                                                          139\n",
       "countryterritoryCode                                            64\n",
       "popData2019                                                     64\n",
       "continentExp                                                     0\n",
       "Cumulative_number_for_14_days_of_COVID-19_cases_per_100000    2781\n",
       "dtype: int64"
      ]
     },
     "execution_count": 8,
     "metadata": {},
     "output_type": "execute_result"
    }
   ],
   "source": [
    "# find the number of missing values for each variable\n",
    "data.isna().sum()"
   ]
  },
  {
   "cell_type": "code",
   "execution_count": 9,
   "metadata": {},
   "outputs": [
    {
     "data": {
      "text/plain": [
       "array(['Namibia'], dtype=object)"
      ]
     },
     "execution_count": 9,
     "metadata": {},
     "output_type": "execute_result"
    }
   ],
   "source": [
    "# find which countries have missing values in geoId\n",
    "data[data['geoId'].isna()]['countriesAndTerritories'].unique()"
   ]
  },
  {
   "cell_type": "code",
   "execution_count": 10,
   "metadata": {},
   "outputs": [
    {
     "data": {
      "text/plain": [
       "array(['Cases_on_an_international_conveyance_Japan'], dtype=object)"
      ]
     },
     "execution_count": 10,
     "metadata": {},
     "output_type": "execute_result"
    }
   ],
   "source": [
    "# Check which countries have missing values in countryterritoryCode\n",
    "data[data['countryterritoryCode'].isnull()]['countriesAndTerritories'].unique()"
   ]
  },
  {
   "cell_type": "code",
   "execution_count": 11,
   "metadata": {},
   "outputs": [
    {
     "data": {
      "text/plain": [
       "array(['Cases_on_an_international_conveyance_Japan'], dtype=object)"
      ]
     },
     "execution_count": 11,
     "metadata": {},
     "output_type": "execute_result"
    }
   ],
   "source": [
    "# Check which countries have missing values in popData2019\n",
    "data[data['popData2019'].isnull()]['countriesAndTerritories'].unique()"
   ]
  },
  {
   "cell_type": "code",
   "execution_count": 12,
   "metadata": {},
   "outputs": [
    {
     "data": {
      "text/plain": [
       "210"
      ]
     },
     "execution_count": 12,
     "metadata": {},
     "output_type": "execute_result"
    }
   ],
   "source": [
    "# find the number of unique countries available in the dataset\n",
    "len(data['countriesAndTerritories'].unique())"
   ]
  },
  {
   "cell_type": "code",
   "execution_count": 13,
   "metadata": {},
   "outputs": [
    {
     "data": {
      "text/plain": [
       "0"
      ]
     },
     "execution_count": 13,
     "metadata": {},
     "output_type": "execute_result"
    }
   ],
   "source": [
    "# check if we have duplicated entries\n",
    "data.duplicated().sum()"
   ]
  },
  {
   "cell_type": "code",
   "execution_count": 14,
   "metadata": {},
   "outputs": [
    {
     "data": {
      "text/plain": [
       "array([ 7,  6,  5,  4,  3,  2,  1, 12], dtype=int64)"
      ]
     },
     "execution_count": 14,
     "metadata": {},
     "output_type": "execute_result"
    }
   ],
   "source": [
    "# check the unique values of month\n",
    "data['month'].unique()"
   ]
  },
  {
   "cell_type": "code",
   "execution_count": 15,
   "metadata": {},
   "outputs": [
    {
     "data": {
      "text/plain": [
       "array([2020, 2019], dtype=int64)"
      ]
     },
     "execution_count": 15,
     "metadata": {},
     "output_type": "execute_result"
    }
   ],
   "source": [
    "# check the unique values of years\n",
    "data['year'].unique()"
   ]
  },
  {
   "cell_type": "code",
   "execution_count": 16,
   "metadata": {},
   "outputs": [
    {
     "data": {
      "text/plain": [
       "array(['Asia', 'Europe', 'Africa', 'America', 'Oceania', 'Other'],\n",
       "      dtype=object)"
      ]
     },
     "execution_count": 16,
     "metadata": {},
     "output_type": "execute_result"
    }
   ],
   "source": [
    "# check the unique values of continents\n",
    "data['continentExp'].unique()"
   ]
  },
  {
   "cell_type": "markdown",
   "metadata": {},
   "source": [
    "### `ctrys_data` DataFrame\n",
    "- I obtained this file mainly to get the population density, `Density(P/Km2)` as I want to see the relationship between the population density and the total number of cases. Variables of interests are: `Country`, `Country Code`, and `Density(P/Km2)`"
   ]
  },
  {
   "cell_type": "code",
   "execution_count": 17,
   "metadata": {},
   "outputs": [
    {
     "data": {
      "text/html": [
       "<div>\n",
       "<style scoped>\n",
       "    .dataframe tbody tr th:only-of-type {\n",
       "        vertical-align: middle;\n",
       "    }\n",
       "\n",
       "    .dataframe tbody tr th {\n",
       "        vertical-align: top;\n",
       "    }\n",
       "\n",
       "    .dataframe thead th {\n",
       "        text-align: right;\n",
       "    }\n",
       "</style>\n",
       "<table border=\"1\" class=\"dataframe\">\n",
       "  <thead>\n",
       "    <tr style=\"text-align: right;\">\n",
       "      <th></th>\n",
       "      <th>Internal_Row_ID</th>\n",
       "      <th>Country</th>\n",
       "      <th>Country Code</th>\n",
       "      <th>Population</th>\n",
       "      <th>Yearly Change</th>\n",
       "      <th>Net Change</th>\n",
       "      <th>Density (P/Km2)</th>\n",
       "      <th>Land Area (Km2)</th>\n",
       "      <th>Migrants (net)</th>\n",
       "      <th>Fertility Rate</th>\n",
       "      <th>Medium Age</th>\n",
       "      <th>Urban Pop %</th>\n",
       "      <th>World Share</th>\n",
       "    </tr>\n",
       "  </thead>\n",
       "  <tbody>\n",
       "    <tr>\n",
       "      <th>0</th>\n",
       "      <td>1</td>\n",
       "      <td>China</td>\n",
       "      <td>CN</td>\n",
       "      <td>1,439,323,776</td>\n",
       "      <td>0.39%</td>\n",
       "      <td>5,540,090</td>\n",
       "      <td>153.0</td>\n",
       "      <td>9,388,211</td>\n",
       "      <td>-348,399</td>\n",
       "      <td>1.7</td>\n",
       "      <td>38.0</td>\n",
       "      <td>61%</td>\n",
       "      <td>18.47%</td>\n",
       "    </tr>\n",
       "    <tr>\n",
       "      <th>1</th>\n",
       "      <td>2</td>\n",
       "      <td>India</td>\n",
       "      <td>IN</td>\n",
       "      <td>1,380,004,385</td>\n",
       "      <td>0.99%</td>\n",
       "      <td>13,586,631</td>\n",
       "      <td>464.0</td>\n",
       "      <td>2,973,190</td>\n",
       "      <td>-532,687</td>\n",
       "      <td>2.2</td>\n",
       "      <td>28.0</td>\n",
       "      <td>35%</td>\n",
       "      <td>17.70%</td>\n",
       "    </tr>\n",
       "    <tr>\n",
       "      <th>2</th>\n",
       "      <td>3</td>\n",
       "      <td>United States</td>\n",
       "      <td>US</td>\n",
       "      <td>331,002,651</td>\n",
       "      <td>0.59%</td>\n",
       "      <td>1,937,734</td>\n",
       "      <td>36.0</td>\n",
       "      <td>9,147,420</td>\n",
       "      <td>954,806</td>\n",
       "      <td>1.8</td>\n",
       "      <td>38.0</td>\n",
       "      <td>83%</td>\n",
       "      <td>4.25%</td>\n",
       "    </tr>\n",
       "    <tr>\n",
       "      <th>3</th>\n",
       "      <td>4</td>\n",
       "      <td>Indonesia</td>\n",
       "      <td>ID</td>\n",
       "      <td>273,523,615</td>\n",
       "      <td>1.07%</td>\n",
       "      <td>2,898,047</td>\n",
       "      <td>151.0</td>\n",
       "      <td>1,811,570</td>\n",
       "      <td>-98,955</td>\n",
       "      <td>2.3</td>\n",
       "      <td>30.0</td>\n",
       "      <td>56%</td>\n",
       "      <td>3.51%</td>\n",
       "    </tr>\n",
       "    <tr>\n",
       "      <th>4</th>\n",
       "      <td>5</td>\n",
       "      <td>Pakistan</td>\n",
       "      <td>PK</td>\n",
       "      <td>220,892,340</td>\n",
       "      <td>2.00%</td>\n",
       "      <td>4,327,022</td>\n",
       "      <td>287.0</td>\n",
       "      <td>77,088</td>\n",
       "      <td>-233,379</td>\n",
       "      <td>3.6</td>\n",
       "      <td>23.0</td>\n",
       "      <td>35%</td>\n",
       "      <td>2.83%</td>\n",
       "    </tr>\n",
       "  </tbody>\n",
       "</table>\n",
       "</div>"
      ],
      "text/plain": [
       "   Internal_Row_ID        Country Country Code     Population Yearly Change  \\\n",
       "0                1          China           CN  1,439,323,776         0.39%   \n",
       "1                2          India           IN  1,380,004,385         0.99%   \n",
       "2                3  United States           US    331,002,651         0.59%   \n",
       "3                4      Indonesia           ID    273,523,615         1.07%   \n",
       "4                5       Pakistan           PK    220,892,340         2.00%   \n",
       "\n",
       "   Net Change  Density (P/Km2) Land Area (Km2) Migrants (net)  Fertility Rate  \\\n",
       "0   5,540,090            153.0       9,388,211       -348,399             1.7   \n",
       "1  13,586,631            464.0       2,973,190       -532,687             2.2   \n",
       "2   1,937,734             36.0       9,147,420        954,806             1.8   \n",
       "3   2,898,047            151.0       1,811,570        -98,955             2.3   \n",
       "4   4,327,022            287.0          77,088       -233,379             3.6   \n",
       "\n",
       "   Medium Age Urban Pop % World Share  \n",
       "0        38.0         61%      18.47%  \n",
       "1        28.0         35%      17.70%  \n",
       "2        38.0         83%       4.25%  \n",
       "3        30.0         56%       3.51%  \n",
       "4        23.0         35%       2.83%  "
      ]
     },
     "execution_count": 17,
     "metadata": {},
     "output_type": "execute_result"
    }
   ],
   "source": [
    "ctrys_data.head()"
   ]
  },
  {
   "cell_type": "code",
   "execution_count": 18,
   "metadata": {},
   "outputs": [
    {
     "data": {
      "text/html": [
       "<div>\n",
       "<style scoped>\n",
       "    .dataframe tbody tr th:only-of-type {\n",
       "        vertical-align: middle;\n",
       "    }\n",
       "\n",
       "    .dataframe tbody tr th {\n",
       "        vertical-align: top;\n",
       "    }\n",
       "\n",
       "    .dataframe thead th {\n",
       "        text-align: right;\n",
       "    }\n",
       "</style>\n",
       "<table border=\"1\" class=\"dataframe\">\n",
       "  <thead>\n",
       "    <tr style=\"text-align: right;\">\n",
       "      <th></th>\n",
       "      <th>Internal_Row_ID</th>\n",
       "      <th>Country</th>\n",
       "      <th>Country Code</th>\n",
       "      <th>Population</th>\n",
       "      <th>Yearly Change</th>\n",
       "      <th>Net Change</th>\n",
       "      <th>Density (P/Km2)</th>\n",
       "      <th>Land Area (Km2)</th>\n",
       "      <th>Migrants (net)</th>\n",
       "      <th>Fertility Rate</th>\n",
       "      <th>Medium Age</th>\n",
       "      <th>Urban Pop %</th>\n",
       "      <th>World Share</th>\n",
       "    </tr>\n",
       "  </thead>\n",
       "  <tbody>\n",
       "    <tr>\n",
       "      <th>232</th>\n",
       "      <td>233</td>\n",
       "      <td>Niue</td>\n",
       "      <td>NU</td>\n",
       "      <td>1,626</td>\n",
       "      <td>0.68%</td>\n",
       "      <td>11</td>\n",
       "      <td>6.0</td>\n",
       "      <td>260</td>\n",
       "      <td>NaN</td>\n",
       "      <td>NaN</td>\n",
       "      <td>NaN</td>\n",
       "      <td>46%</td>\n",
       "      <td>0.00%</td>\n",
       "    </tr>\n",
       "    <tr>\n",
       "      <th>233</th>\n",
       "      <td>234</td>\n",
       "      <td>Tokelau</td>\n",
       "      <td>TK</td>\n",
       "      <td>1,357</td>\n",
       "      <td>1.27%</td>\n",
       "      <td>17</td>\n",
       "      <td>136.0</td>\n",
       "      <td>10</td>\n",
       "      <td>NaN</td>\n",
       "      <td>NaN</td>\n",
       "      <td>NaN</td>\n",
       "      <td>0%</td>\n",
       "      <td>0.00%</td>\n",
       "    </tr>\n",
       "    <tr>\n",
       "      <th>234</th>\n",
       "      <td>235</td>\n",
       "      <td>Holy See</td>\n",
       "      <td>VA</td>\n",
       "      <td>801</td>\n",
       "      <td>0.25%</td>\n",
       "      <td>2</td>\n",
       "      <td>2003.0</td>\n",
       "      <td>0</td>\n",
       "      <td>NaN</td>\n",
       "      <td>NaN</td>\n",
       "      <td>NaN</td>\n",
       "      <td>NaN</td>\n",
       "      <td>0.00%</td>\n",
       "    </tr>\n",
       "    <tr>\n",
       "      <th>235</th>\n",
       "      <td>236</td>\n",
       "      <td>Others</td>\n",
       "      <td>XX</td>\n",
       "      <td>NaN</td>\n",
       "      <td>NaN</td>\n",
       "      <td>NaN</td>\n",
       "      <td>NaN</td>\n",
       "      <td>NaN</td>\n",
       "      <td>NaN</td>\n",
       "      <td>NaN</td>\n",
       "      <td>NaN</td>\n",
       "      <td>NaN</td>\n",
       "      <td>NaN</td>\n",
       "    </tr>\n",
       "    <tr>\n",
       "      <th>236</th>\n",
       "      <td>237</td>\n",
       "      <td># Undefined</td>\n",
       "      <td>XY</td>\n",
       "      <td>NaN</td>\n",
       "      <td>NaN</td>\n",
       "      <td>NaN</td>\n",
       "      <td>NaN</td>\n",
       "      <td>NaN</td>\n",
       "      <td>NaN</td>\n",
       "      <td>NaN</td>\n",
       "      <td>NaN</td>\n",
       "      <td>NaN</td>\n",
       "      <td>NaN</td>\n",
       "    </tr>\n",
       "  </tbody>\n",
       "</table>\n",
       "</div>"
      ],
      "text/plain": [
       "     Internal_Row_ID      Country Country Code Population Yearly Change  \\\n",
       "232              233         Niue           NU      1,626         0.68%   \n",
       "233              234      Tokelau           TK      1,357         1.27%   \n",
       "234              235     Holy See           VA        801         0.25%   \n",
       "235              236       Others           XX        NaN           NaN   \n",
       "236              237  # Undefined           XY        NaN           NaN   \n",
       "\n",
       "    Net Change  Density (P/Km2) Land Area (Km2) Migrants (net)  \\\n",
       "232         11              6.0             260            NaN   \n",
       "233         17            136.0              10            NaN   \n",
       "234          2           2003.0               0            NaN   \n",
       "235        NaN              NaN             NaN            NaN   \n",
       "236        NaN              NaN             NaN            NaN   \n",
       "\n",
       "     Fertility Rate  Medium Age Urban Pop % World Share  \n",
       "232             NaN         NaN         46%       0.00%  \n",
       "233             NaN         NaN          0%       0.00%  \n",
       "234             NaN         NaN         NaN       0.00%  \n",
       "235             NaN         NaN         NaN         NaN  \n",
       "236             NaN         NaN         NaN         NaN  "
      ]
     },
     "execution_count": 18,
     "metadata": {},
     "output_type": "execute_result"
    }
   ],
   "source": [
    "ctrys_data.tail()"
   ]
  },
  {
   "cell_type": "code",
   "execution_count": 19,
   "metadata": {},
   "outputs": [
    {
     "data": {
      "text/plain": [
       "(237, 13)"
      ]
     },
     "execution_count": 19,
     "metadata": {},
     "output_type": "execute_result"
    }
   ],
   "source": [
    "ctrys_data.shape"
   ]
  },
  {
   "cell_type": "code",
   "execution_count": 20,
   "metadata": {},
   "outputs": [
    {
     "name": "stdout",
     "output_type": "stream",
     "text": [
      "<class 'pandas.core.frame.DataFrame'>\n",
      "RangeIndex: 237 entries, 0 to 236\n",
      "Data columns (total 13 columns):\n",
      " #   Column           Non-Null Count  Dtype  \n",
      "---  ------           --------------  -----  \n",
      " 0   Internal_Row_ID  237 non-null    int64  \n",
      " 1   Country          237 non-null    object \n",
      " 2   Country Code     236 non-null    object \n",
      " 3   Population       235 non-null    object \n",
      " 4   Yearly Change    235 non-null    object \n",
      " 5   Net Change       235 non-null    object \n",
      " 6   Density (P/Km2)  235 non-null    float64\n",
      " 7   Land Area (Km2)  235 non-null    object \n",
      " 8   Migrants (net)   201 non-null    object \n",
      " 9   Fertility Rate   201 non-null    float64\n",
      " 10  Medium Age       201 non-null    float64\n",
      " 11  Urban Pop %      222 non-null    object \n",
      " 12  World Share      235 non-null    object \n",
      "dtypes: float64(3), int64(1), object(9)\n",
      "memory usage: 24.2+ KB\n"
     ]
    }
   ],
   "source": [
    "ctrys_data.info()"
   ]
  },
  {
   "cell_type": "code",
   "execution_count": 21,
   "metadata": {},
   "outputs": [
    {
     "data": {
      "text/plain": [
       "Internal_Row_ID     0\n",
       "Country             0\n",
       "Country Code        1\n",
       "Population          2\n",
       "Yearly Change       2\n",
       "Net Change          2\n",
       "Density (P/Km2)     2\n",
       "Land Area (Km2)     2\n",
       "Migrants (net)     36\n",
       "Fertility Rate     36\n",
       "Medium Age         36\n",
       "Urban Pop %        15\n",
       "World Share         2\n",
       "dtype: int64"
      ]
     },
     "execution_count": 21,
     "metadata": {},
     "output_type": "execute_result"
    }
   ],
   "source": [
    "ctrys_data.isna().sum()"
   ]
  },
  {
   "cell_type": "code",
   "execution_count": 22,
   "metadata": {},
   "outputs": [
    {
     "data": {
      "text/html": [
       "<div>\n",
       "<style scoped>\n",
       "    .dataframe tbody tr th:only-of-type {\n",
       "        vertical-align: middle;\n",
       "    }\n",
       "\n",
       "    .dataframe tbody tr th {\n",
       "        vertical-align: top;\n",
       "    }\n",
       "\n",
       "    .dataframe thead th {\n",
       "        text-align: right;\n",
       "    }\n",
       "</style>\n",
       "<table border=\"1\" class=\"dataframe\">\n",
       "  <thead>\n",
       "    <tr style=\"text-align: right;\">\n",
       "      <th></th>\n",
       "      <th>Internal_Row_ID</th>\n",
       "      <th>Country</th>\n",
       "      <th>Country Code</th>\n",
       "      <th>Population</th>\n",
       "      <th>Yearly Change</th>\n",
       "      <th>Net Change</th>\n",
       "      <th>Density (P/Km2)</th>\n",
       "      <th>Land Area (Km2)</th>\n",
       "      <th>Migrants (net)</th>\n",
       "      <th>Fertility Rate</th>\n",
       "      <th>Medium Age</th>\n",
       "      <th>Urban Pop %</th>\n",
       "      <th>World Share</th>\n",
       "    </tr>\n",
       "  </thead>\n",
       "  <tbody>\n",
       "    <tr>\n",
       "      <th>142</th>\n",
       "      <td>143</td>\n",
       "      <td>Namibia</td>\n",
       "      <td>NaN</td>\n",
       "      <td>2,540,905</td>\n",
       "      <td>1.86%</td>\n",
       "      <td>46,375</td>\n",
       "      <td>3.0</td>\n",
       "      <td>82,329</td>\n",
       "      <td>-4,806</td>\n",
       "      <td>3.4</td>\n",
       "      <td>22.0</td>\n",
       "      <td>55%</td>\n",
       "      <td>0.03%</td>\n",
       "    </tr>\n",
       "  </tbody>\n",
       "</table>\n",
       "</div>"
      ],
      "text/plain": [
       "     Internal_Row_ID  Country Country Code Population Yearly Change  \\\n",
       "142              143  Namibia          NaN  2,540,905         1.86%   \n",
       "\n",
       "    Net Change  Density (P/Km2) Land Area (Km2) Migrants (net)  \\\n",
       "142     46,375              3.0          82,329         -4,806   \n",
       "\n",
       "     Fertility Rate  Medium Age Urban Pop % World Share  \n",
       "142             3.4        22.0         55%       0.03%  "
      ]
     },
     "execution_count": 22,
     "metadata": {},
     "output_type": "execute_result"
    }
   ],
   "source": [
    "# check which countries have missing country code\n",
    "ctrys_data[ctrys_data['Country Code'].isnull()]"
   ]
  },
  {
   "cell_type": "code",
   "execution_count": 23,
   "metadata": {},
   "outputs": [
    {
     "data": {
      "text/html": [
       "<div>\n",
       "<style scoped>\n",
       "    .dataframe tbody tr th:only-of-type {\n",
       "        vertical-align: middle;\n",
       "    }\n",
       "\n",
       "    .dataframe tbody tr th {\n",
       "        vertical-align: top;\n",
       "    }\n",
       "\n",
       "    .dataframe thead th {\n",
       "        text-align: right;\n",
       "    }\n",
       "</style>\n",
       "<table border=\"1\" class=\"dataframe\">\n",
       "  <thead>\n",
       "    <tr style=\"text-align: right;\">\n",
       "      <th></th>\n",
       "      <th>Internal_Row_ID</th>\n",
       "      <th>Country</th>\n",
       "      <th>Country Code</th>\n",
       "      <th>Population</th>\n",
       "      <th>Yearly Change</th>\n",
       "      <th>Net Change</th>\n",
       "      <th>Density (P/Km2)</th>\n",
       "      <th>Land Area (Km2)</th>\n",
       "      <th>Migrants (net)</th>\n",
       "      <th>Fertility Rate</th>\n",
       "      <th>Medium Age</th>\n",
       "      <th>Urban Pop %</th>\n",
       "      <th>World Share</th>\n",
       "    </tr>\n",
       "  </thead>\n",
       "  <tbody>\n",
       "    <tr>\n",
       "      <th>235</th>\n",
       "      <td>236</td>\n",
       "      <td>Others</td>\n",
       "      <td>XX</td>\n",
       "      <td>NaN</td>\n",
       "      <td>NaN</td>\n",
       "      <td>NaN</td>\n",
       "      <td>NaN</td>\n",
       "      <td>NaN</td>\n",
       "      <td>NaN</td>\n",
       "      <td>NaN</td>\n",
       "      <td>NaN</td>\n",
       "      <td>NaN</td>\n",
       "      <td>NaN</td>\n",
       "    </tr>\n",
       "    <tr>\n",
       "      <th>236</th>\n",
       "      <td>237</td>\n",
       "      <td># Undefined</td>\n",
       "      <td>XY</td>\n",
       "      <td>NaN</td>\n",
       "      <td>NaN</td>\n",
       "      <td>NaN</td>\n",
       "      <td>NaN</td>\n",
       "      <td>NaN</td>\n",
       "      <td>NaN</td>\n",
       "      <td>NaN</td>\n",
       "      <td>NaN</td>\n",
       "      <td>NaN</td>\n",
       "      <td>NaN</td>\n",
       "    </tr>\n",
       "  </tbody>\n",
       "</table>\n",
       "</div>"
      ],
      "text/plain": [
       "     Internal_Row_ID      Country Country Code Population Yearly Change  \\\n",
       "235              236       Others           XX        NaN           NaN   \n",
       "236              237  # Undefined           XY        NaN           NaN   \n",
       "\n",
       "    Net Change  Density (P/Km2) Land Area (Km2) Migrants (net)  \\\n",
       "235        NaN              NaN             NaN            NaN   \n",
       "236        NaN              NaN             NaN            NaN   \n",
       "\n",
       "     Fertility Rate  Medium Age Urban Pop % World Share  \n",
       "235             NaN         NaN         NaN         NaN  \n",
       "236             NaN         NaN         NaN         NaN  "
      ]
     },
     "execution_count": 23,
     "metadata": {},
     "output_type": "execute_result"
    }
   ],
   "source": [
    "# check which countries have missing density\n",
    "ctrys_data[ctrys_data['Density (P/Km2)'].isnull()]"
   ]
  },
  {
   "cell_type": "code",
   "execution_count": 24,
   "metadata": {},
   "outputs": [
    {
     "data": {
      "text/html": [
       "<div>\n",
       "<style scoped>\n",
       "    .dataframe tbody tr th:only-of-type {\n",
       "        vertical-align: middle;\n",
       "    }\n",
       "\n",
       "    .dataframe tbody tr th {\n",
       "        vertical-align: top;\n",
       "    }\n",
       "\n",
       "    .dataframe thead th {\n",
       "        text-align: right;\n",
       "    }\n",
       "</style>\n",
       "<table border=\"1\" class=\"dataframe\">\n",
       "  <thead>\n",
       "    <tr style=\"text-align: right;\">\n",
       "      <th></th>\n",
       "      <th>Internal_Row_ID</th>\n",
       "      <th>Country</th>\n",
       "      <th>Country Code</th>\n",
       "      <th>Population</th>\n",
       "      <th>Yearly Change</th>\n",
       "      <th>Net Change</th>\n",
       "      <th>Density (P/Km2)</th>\n",
       "      <th>Land Area (Km2)</th>\n",
       "      <th>Migrants (net)</th>\n",
       "      <th>Fertility Rate</th>\n",
       "      <th>Medium Age</th>\n",
       "      <th>Urban Pop %</th>\n",
       "      <th>World Share</th>\n",
       "    </tr>\n",
       "  </thead>\n",
       "  <tbody>\n",
       "  </tbody>\n",
       "</table>\n",
       "</div>"
      ],
      "text/plain": [
       "Empty DataFrame\n",
       "Columns: [Internal_Row_ID, Country, Country Code, Population, Yearly Change, Net Change, Density (P/Km2), Land Area (Km2), Migrants (net), Fertility Rate, Medium Age, Urban Pop %, World Share]\n",
       "Index: []"
      ]
     },
     "execution_count": 24,
     "metadata": {},
     "output_type": "execute_result"
    }
   ],
   "source": [
    "# look for duplicate entries\n",
    "ctrys_data[ctrys_data.duplicated()]"
   ]
  },
  {
   "cell_type": "code",
   "execution_count": 25,
   "metadata": {},
   "outputs": [
    {
     "data": {
      "text/html": [
       "<div>\n",
       "<style scoped>\n",
       "    .dataframe tbody tr th:only-of-type {\n",
       "        vertical-align: middle;\n",
       "    }\n",
       "\n",
       "    .dataframe tbody tr th {\n",
       "        vertical-align: top;\n",
       "    }\n",
       "\n",
       "    .dataframe thead th {\n",
       "        text-align: right;\n",
       "    }\n",
       "</style>\n",
       "<table border=\"1\" class=\"dataframe\">\n",
       "  <thead>\n",
       "    <tr style=\"text-align: right;\">\n",
       "      <th></th>\n",
       "      <th>Internal_Row_ID</th>\n",
       "      <th>Country</th>\n",
       "      <th>Country Code</th>\n",
       "      <th>Population</th>\n",
       "      <th>Yearly Change</th>\n",
       "      <th>Net Change</th>\n",
       "      <th>Density (P/Km2)</th>\n",
       "      <th>Land Area (Km2)</th>\n",
       "      <th>Migrants (net)</th>\n",
       "      <th>Fertility Rate</th>\n",
       "      <th>Medium Age</th>\n",
       "      <th>Urban Pop %</th>\n",
       "      <th>World Share</th>\n",
       "    </tr>\n",
       "  </thead>\n",
       "  <tbody>\n",
       "  </tbody>\n",
       "</table>\n",
       "</div>"
      ],
      "text/plain": [
       "Empty DataFrame\n",
       "Columns: [Internal_Row_ID, Country, Country Code, Population, Yearly Change, Net Change, Density (P/Km2), Land Area (Km2), Migrants (net), Fertility Rate, Medium Age, Urban Pop %, World Share]\n",
       "Index: []"
      ]
     },
     "execution_count": 25,
     "metadata": {},
     "output_type": "execute_result"
    }
   ],
   "source": [
    "# check if there is duplicate countries\n",
    "ctrys_data[ctrys_data.duplicated(subset='Country')]"
   ]
  },
  {
   "cell_type": "markdown",
   "metadata": {},
   "source": [
    "### `world_map` DataFrame\n",
    "- This is the last file I gathered for this analysis, and I will use it to plot a map of cases, deaths, case ratio, and death ratio for each country of the world. I am interested in all the variables except: `pop_est` and `gdp_md_est`"
   ]
  },
  {
   "cell_type": "code",
   "execution_count": 26,
   "metadata": {},
   "outputs": [
    {
     "data": {
      "text/html": [
       "<div>\n",
       "<style scoped>\n",
       "    .dataframe tbody tr th:only-of-type {\n",
       "        vertical-align: middle;\n",
       "    }\n",
       "\n",
       "    .dataframe tbody tr th {\n",
       "        vertical-align: top;\n",
       "    }\n",
       "\n",
       "    .dataframe thead th {\n",
       "        text-align: right;\n",
       "    }\n",
       "</style>\n",
       "<table border=\"1\" class=\"dataframe\">\n",
       "  <thead>\n",
       "    <tr style=\"text-align: right;\">\n",
       "      <th></th>\n",
       "      <th>pop_est</th>\n",
       "      <th>continent</th>\n",
       "      <th>name</th>\n",
       "      <th>iso_a3</th>\n",
       "      <th>gdp_md_est</th>\n",
       "      <th>geometry</th>\n",
       "    </tr>\n",
       "  </thead>\n",
       "  <tbody>\n",
       "    <tr>\n",
       "      <th>0</th>\n",
       "      <td>920938</td>\n",
       "      <td>Oceania</td>\n",
       "      <td>Fiji</td>\n",
       "      <td>FJI</td>\n",
       "      <td>8374.0</td>\n",
       "      <td>MULTIPOLYGON (((180.00000 -16.06713, 180.00000...</td>\n",
       "    </tr>\n",
       "    <tr>\n",
       "      <th>1</th>\n",
       "      <td>53950935</td>\n",
       "      <td>Africa</td>\n",
       "      <td>Tanzania</td>\n",
       "      <td>TZA</td>\n",
       "      <td>150600.0</td>\n",
       "      <td>POLYGON ((33.90371 -0.95000, 34.07262 -1.05982...</td>\n",
       "    </tr>\n",
       "    <tr>\n",
       "      <th>2</th>\n",
       "      <td>603253</td>\n",
       "      <td>Africa</td>\n",
       "      <td>W. Sahara</td>\n",
       "      <td>ESH</td>\n",
       "      <td>906.5</td>\n",
       "      <td>POLYGON ((-8.66559 27.65643, -8.66512 27.58948...</td>\n",
       "    </tr>\n",
       "    <tr>\n",
       "      <th>3</th>\n",
       "      <td>35623680</td>\n",
       "      <td>North America</td>\n",
       "      <td>Canada</td>\n",
       "      <td>CAN</td>\n",
       "      <td>1674000.0</td>\n",
       "      <td>MULTIPOLYGON (((-122.84000 49.00000, -122.9742...</td>\n",
       "    </tr>\n",
       "    <tr>\n",
       "      <th>4</th>\n",
       "      <td>326625791</td>\n",
       "      <td>North America</td>\n",
       "      <td>United States of America</td>\n",
       "      <td>USA</td>\n",
       "      <td>18560000.0</td>\n",
       "      <td>MULTIPOLYGON (((-122.84000 49.00000, -120.0000...</td>\n",
       "    </tr>\n",
       "  </tbody>\n",
       "</table>\n",
       "</div>"
      ],
      "text/plain": [
       "     pop_est      continent                      name iso_a3  gdp_md_est  \\\n",
       "0     920938        Oceania                      Fiji    FJI      8374.0   \n",
       "1   53950935         Africa                  Tanzania    TZA    150600.0   \n",
       "2     603253         Africa                 W. Sahara    ESH       906.5   \n",
       "3   35623680  North America                    Canada    CAN   1674000.0   \n",
       "4  326625791  North America  United States of America    USA  18560000.0   \n",
       "\n",
       "                                            geometry  \n",
       "0  MULTIPOLYGON (((180.00000 -16.06713, 180.00000...  \n",
       "1  POLYGON ((33.90371 -0.95000, 34.07262 -1.05982...  \n",
       "2  POLYGON ((-8.66559 27.65643, -8.66512 27.58948...  \n",
       "3  MULTIPOLYGON (((-122.84000 49.00000, -122.9742...  \n",
       "4  MULTIPOLYGON (((-122.84000 49.00000, -120.0000...  "
      ]
     },
     "execution_count": 26,
     "metadata": {},
     "output_type": "execute_result"
    }
   ],
   "source": [
    "world_map.head()"
   ]
  },
  {
   "cell_type": "code",
   "execution_count": 27,
   "metadata": {},
   "outputs": [
    {
     "data": {
      "text/plain": [
       "(177, 6)"
      ]
     },
     "execution_count": 27,
     "metadata": {},
     "output_type": "execute_result"
    }
   ],
   "source": [
    "world_map.shape"
   ]
  },
  {
   "cell_type": "code",
   "execution_count": 28,
   "metadata": {},
   "outputs": [
    {
     "name": "stdout",
     "output_type": "stream",
     "text": [
      "<class 'geopandas.geodataframe.GeoDataFrame'>\n",
      "RangeIndex: 177 entries, 0 to 176\n",
      "Data columns (total 6 columns):\n",
      " #   Column      Non-Null Count  Dtype   \n",
      "---  ------      --------------  -----   \n",
      " 0   pop_est     177 non-null    int64   \n",
      " 1   continent   177 non-null    object  \n",
      " 2   name        177 non-null    object  \n",
      " 3   iso_a3      177 non-null    object  \n",
      " 4   gdp_md_est  177 non-null    float64 \n",
      " 5   geometry    177 non-null    geometry\n",
      "dtypes: float64(1), geometry(1), int64(1), object(3)\n",
      "memory usage: 8.4+ KB\n"
     ]
    }
   ],
   "source": [
    "world_map.info()"
   ]
  },
  {
   "cell_type": "code",
   "execution_count": 30,
   "metadata": {},
   "outputs": [
    {
     "data": {
      "image/png": "[encoded data removed]",
      "text/plain": [
       "<Figure size 432x288 with 1 Axes>"
      ]
     },
     "metadata": {
      "needs_background": "light"
     },
     "output_type": "display_data"
    }
   ],
   "source": [
    "# plot the map to see how it looks\n",
    "world_map.plot();"
   ]
  },
  {
   "cell_type": "markdown",
   "metadata": {},
   "source": [
    "By looking at the map, I see Antarctica is taking a large space on the map, before deleting it, I will check `data` DataFrame, whether Antarctica have recorded any cases, if not, then there is no need to keep it"
   ]
  },
  {
   "cell_type": "code",
   "execution_count": 31,
   "metadata": {},
   "outputs": [
    {
     "data": {
      "text/plain": [
       "array(['Asia', 'Europe', 'Africa', 'America', 'Oceania', 'Other'],\n",
       "      dtype=object)"
      ]
     },
     "execution_count": 31,
     "metadata": {},
     "output_type": "execute_result"
    }
   ],
   "source": [
    "# check if Antarctica have cases in data if not then delete it from world_map\n",
    "data['continentExp'].unique()"
   ]
  },
  {
   "cell_type": "markdown",
   "metadata": {},
   "source": [
    "As we can see there is not any cases recorded in Antarctica, so I will delete it from the shapefile"
   ]
  },
  {
   "cell_type": "code",
   "execution_count": 32,
   "metadata": {},
   "outputs": [
    {
     "data": {
      "text/plain": [
       "<matplotlib.axes._subplots.AxesSubplot at 0x9b7fcc0>"
      ]
     },
     "execution_count": 32,
     "metadata": {},
     "output_type": "execute_result"
    },
    {
     "data": {
      "image/png": "[encoded data removed]",
      "text/plain": [
       "<Figure size 432x288 with 1 Axes>"
      ]
     },
     "metadata": {
      "needs_background": "light"
     },
     "output_type": "display_data"
    }
   ],
   "source": [
    "# double check which part of the map Antarctica represent\n",
    "world_map.loc[world_map['name']=='Antarctica', 'geometry'].plot()"
   ]
  },
  {
   "cell_type": "markdown",
   "metadata": {},
   "source": [
    "#### To Clean:\n",
    "#### `data` file\n",
    "1. Some column names are too long or not well defined\n",
    "2. Remove columns: `year`, `month`, and `day` since they are already included in the `dateRep` column. Also remove `Cumulative_number_for_14_days_of_COVID-19_cases_per_100000` column as I don't need it\n",
    "3. Missing values in `geoId`\n",
    "4. Missing values in `countryterritoryCode` and `popData2019`\n",
    "5. `dateRep` is string not a DateTime object\n",
    "6. `popData2018` is float not integer\n",
    "\n",
    "\n",
    "#### `ctrys_data` file\n",
    "1. Change column names for convenience\n",
    "2. The country \"Namibia\" has missing country code\n",
    "3. Drop columns at index 235 and 236\n",
    "4. Keep the following columns only: `Country`, `Country Code` and `Density (P/Km2)` \n",
    "\n",
    "#### `world_map` file\n",
    "1. Change the column names for convenience\n",
    "2. Drop `pop_est` and `gdp_md_est`\n",
    "3. Delete \"Antarctica\" from the map as it takes large space with no cases presented in it"
   ]
  },
  {
   "cell_type": "markdown",
   "metadata": {},
   "source": [
    "## Clean\n"
   ]
  },
  {
   "cell_type": "code",
   "execution_count": 39,
   "metadata": {},
   "outputs": [],
   "source": [
    "# create copy DataFrames of the original data\n",
    "df = data.copy()\n",
    "df_ctrys = ctrys_data.copy()\n",
    "df_map = world_map.copy()"
   ]
  },
  {
   "cell_type": "markdown",
   "metadata": {},
   "source": [
    "### `df` DataFrame"
   ]
  },
  {
   "cell_type": "markdown",
   "metadata": {},
   "source": [
    "#### 1. Column names\n",
    "##### <font color = blue>Define</font>\n",
    "\n",
    "- Change the column names using `df.rename`\n",
    "\n",
    "##### <font color = blue>Code</font>\n"
   ]
  },
  {
   "cell_type": "code",
   "execution_count": 40,
   "metadata": {},
   "outputs": [],
   "source": [
    "df.rename(columns = {'dateRep':'date', 'countriesAndTerritories': 'country','geoId': 'iso_2','countryterritoryCode':\n",
    "                     'iso_3', 'popData2019':'population','continentExp':'continent'}, inplace = True)"
   ]
  },
  {
   "cell_type": "markdown",
   "metadata": {},
   "source": [
    "##### <font color = blue>Test</font>"
   ]
  },
  {
   "cell_type": "code",
   "execution_count": 41,
   "metadata": {},
   "outputs": [
    {
     "data": {
      "text/html": [
       "<div>\n",
       "<style scoped>\n",
       "    .dataframe tbody tr th:only-of-type {\n",
       "        vertical-align: middle;\n",
       "    }\n",
       "\n",
       "    .dataframe tbody tr th {\n",
       "        vertical-align: top;\n",
       "    }\n",
       "\n",
       "    .dataframe thead th {\n",
       "        text-align: right;\n",
       "    }\n",
       "</style>\n",
       "<table border=\"1\" class=\"dataframe\">\n",
       "  <thead>\n",
       "    <tr style=\"text-align: right;\">\n",
       "      <th></th>\n",
       "      <th>date</th>\n",
       "      <th>day</th>\n",
       "      <th>month</th>\n",
       "      <th>year</th>\n",
       "      <th>cases</th>\n",
       "      <th>deaths</th>\n",
       "      <th>country</th>\n",
       "      <th>iso_2</th>\n",
       "      <th>iso_3</th>\n",
       "      <th>population</th>\n",
       "      <th>continent</th>\n",
       "      <th>Cumulative_number_for_14_days_of_COVID-19_cases_per_100000</th>\n",
       "    </tr>\n",
       "  </thead>\n",
       "  <tbody>\n",
       "    <tr>\n",
       "      <th>0</th>\n",
       "      <td>31/07/2020</td>\n",
       "      <td>31</td>\n",
       "      <td>7</td>\n",
       "      <td>2020</td>\n",
       "      <td>71</td>\n",
       "      <td>0</td>\n",
       "      <td>Afghanistan</td>\n",
       "      <td>AF</td>\n",
       "      <td>AFG</td>\n",
       "      <td>38041757.0</td>\n",
       "      <td>Asia</td>\n",
       "      <td>3.869432</td>\n",
       "    </tr>\n",
       "    <tr>\n",
       "      <th>1</th>\n",
       "      <td>30/07/2020</td>\n",
       "      <td>30</td>\n",
       "      <td>7</td>\n",
       "      <td>2020</td>\n",
       "      <td>0</td>\n",
       "      <td>0</td>\n",
       "      <td>Afghanistan</td>\n",
       "      <td>AF</td>\n",
       "      <td>AFG</td>\n",
       "      <td>38041757.0</td>\n",
       "      <td>Asia</td>\n",
       "      <td>3.882576</td>\n",
       "    </tr>\n",
       "    <tr>\n",
       "      <th>2</th>\n",
       "      <td>29/07/2020</td>\n",
       "      <td>29</td>\n",
       "      <td>7</td>\n",
       "      <td>2020</td>\n",
       "      <td>103</td>\n",
       "      <td>1</td>\n",
       "      <td>Afghanistan</td>\n",
       "      <td>AF</td>\n",
       "      <td>AFG</td>\n",
       "      <td>38041757.0</td>\n",
       "      <td>Asia</td>\n",
       "      <td>4.550263</td>\n",
       "    </tr>\n",
       "    <tr>\n",
       "      <th>3</th>\n",
       "      <td>28/07/2020</td>\n",
       "      <td>28</td>\n",
       "      <td>7</td>\n",
       "      <td>2020</td>\n",
       "      <td>105</td>\n",
       "      <td>1</td>\n",
       "      <td>Afghanistan</td>\n",
       "      <td>AF</td>\n",
       "      <td>AFG</td>\n",
       "      <td>38041757.0</td>\n",
       "      <td>Asia</td>\n",
       "      <td>5.028685</td>\n",
       "    </tr>\n",
       "    <tr>\n",
       "      <th>4</th>\n",
       "      <td>27/07/2020</td>\n",
       "      <td>27</td>\n",
       "      <td>7</td>\n",
       "      <td>2020</td>\n",
       "      <td>106</td>\n",
       "      <td>10</td>\n",
       "      <td>Afghanistan</td>\n",
       "      <td>AF</td>\n",
       "      <td>AFG</td>\n",
       "      <td>38041757.0</td>\n",
       "      <td>Asia</td>\n",
       "      <td>4.763187</td>\n",
       "    </tr>\n",
       "  </tbody>\n",
       "</table>\n",
       "</div>"
      ],
      "text/plain": [
       "         date  day  month  year  cases  deaths      country iso_2 iso_3  \\\n",
       "0  31/07/2020   31      7  2020     71       0  Afghanistan    AF   AFG   \n",
       "1  30/07/2020   30      7  2020      0       0  Afghanistan    AF   AFG   \n",
       "2  29/07/2020   29      7  2020    103       1  Afghanistan    AF   AFG   \n",
       "3  28/07/2020   28      7  2020    105       1  Afghanistan    AF   AFG   \n",
       "4  27/07/2020   27      7  2020    106      10  Afghanistan    AF   AFG   \n",
       "\n",
       "   population continent  \\\n",
       "0  38041757.0      Asia   \n",
       "1  38041757.0      Asia   \n",
       "2  38041757.0      Asia   \n",
       "3  38041757.0      Asia   \n",
       "4  38041757.0      Asia   \n",
       "\n",
       "   Cumulative_number_for_14_days_of_COVID-19_cases_per_100000  \n",
       "0                                           3.869432           \n",
       "1                                           3.882576           \n",
       "2                                           4.550263           \n",
       "3                                           5.028685           \n",
       "4                                           4.763187           "
      ]
     },
     "execution_count": 41,
     "metadata": {},
     "output_type": "execute_result"
    }
   ],
   "source": [
    "df.head()"
   ]
  },
  {
   "cell_type": "markdown",
   "metadata": {},
   "source": [
    "#### 2. Remove unnecessary columns\n",
    "##### <font color = blue>Define</font>\n",
    "\n",
    "- Remove `day`, `month`, `year`, and `Cumulative_number_for_14_days_of_COVID-19_cases_per_100000` columns using `df.drop`\n",
    "\n",
    "##### <font color = blue>Code</font>\n"
   ]
  },
  {
   "cell_type": "code",
   "execution_count": 42,
   "metadata": {},
   "outputs": [],
   "source": [
    "df.drop(columns=['day', 'month', 'year', 'Cumulative_number_for_14_days_of_COVID-19_cases_per_100000'], inplace=True)"
   ]
  },
  {
   "cell_type": "markdown",
   "metadata": {},
   "source": [
    "##### <font color = blue>Test</font>"
   ]
  },
  {
   "cell_type": "code",
   "execution_count": 43,
   "metadata": {},
   "outputs": [
    {
     "data": {
      "text/html": [
       "<div>\n",
       "<style scoped>\n",
       "    .dataframe tbody tr th:only-of-type {\n",
       "        vertical-align: middle;\n",
       "    }\n",
       "\n",
       "    .dataframe tbody tr th {\n",
       "        vertical-align: top;\n",
       "    }\n",
       "\n",
       "    .dataframe thead th {\n",
       "        text-align: right;\n",
       "    }\n",
       "</style>\n",
       "<table border=\"1\" class=\"dataframe\">\n",
       "  <thead>\n",
       "    <tr style=\"text-align: right;\">\n",
       "      <th></th>\n",
       "      <th>date</th>\n",
       "      <th>cases</th>\n",
       "      <th>deaths</th>\n",
       "      <th>country</th>\n",
       "      <th>iso_2</th>\n",
       "      <th>iso_3</th>\n",
       "      <th>population</th>\n",
       "      <th>continent</th>\n",
       "    </tr>\n",
       "  </thead>\n",
       "  <tbody>\n",
       "    <tr>\n",
       "      <th>0</th>\n",
       "      <td>31/07/2020</td>\n",
       "      <td>71</td>\n",
       "      <td>0</td>\n",
       "      <td>Afghanistan</td>\n",
       "      <td>AF</td>\n",
       "      <td>AFG</td>\n",
       "      <td>38041757.0</td>\n",
       "      <td>Asia</td>\n",
       "    </tr>\n",
       "    <tr>\n",
       "      <th>1</th>\n",
       "      <td>30/07/2020</td>\n",
       "      <td>0</td>\n",
       "      <td>0</td>\n",
       "      <td>Afghanistan</td>\n",
       "      <td>AF</td>\n",
       "      <td>AFG</td>\n",
       "      <td>38041757.0</td>\n",
       "      <td>Asia</td>\n",
       "    </tr>\n",
       "    <tr>\n",
       "      <th>2</th>\n",
       "      <td>29/07/2020</td>\n",
       "      <td>103</td>\n",
       "      <td>1</td>\n",
       "      <td>Afghanistan</td>\n",
       "      <td>AF</td>\n",
       "      <td>AFG</td>\n",
       "      <td>38041757.0</td>\n",
       "      <td>Asia</td>\n",
       "    </tr>\n",
       "    <tr>\n",
       "      <th>3</th>\n",
       "      <td>28/07/2020</td>\n",
       "      <td>105</td>\n",
       "      <td>1</td>\n",
       "      <td>Afghanistan</td>\n",
       "      <td>AF</td>\n",
       "      <td>AFG</td>\n",
       "      <td>38041757.0</td>\n",
       "      <td>Asia</td>\n",
       "    </tr>\n",
       "    <tr>\n",
       "      <th>4</th>\n",
       "      <td>27/07/2020</td>\n",
       "      <td>106</td>\n",
       "      <td>10</td>\n",
       "      <td>Afghanistan</td>\n",
       "      <td>AF</td>\n",
       "      <td>AFG</td>\n",
       "      <td>38041757.0</td>\n",
       "      <td>Asia</td>\n",
       "    </tr>\n",
       "  </tbody>\n",
       "</table>\n",
       "</div>"
      ],
      "text/plain": [
       "         date  cases  deaths      country iso_2 iso_3  population continent\n",
       "0  31/07/2020     71       0  Afghanistan    AF   AFG  38041757.0      Asia\n",
       "1  30/07/2020      0       0  Afghanistan    AF   AFG  38041757.0      Asia\n",
       "2  29/07/2020    103       1  Afghanistan    AF   AFG  38041757.0      Asia\n",
       "3  28/07/2020    105       1  Afghanistan    AF   AFG  38041757.0      Asia\n",
       "4  27/07/2020    106      10  Afghanistan    AF   AFG  38041757.0      Asia"
      ]
     },
     "execution_count": 43,
     "metadata": {},
     "output_type": "execute_result"
    }
   ],
   "source": [
    "df.head()"
   ]
  },
  {
   "cell_type": "markdown",
   "metadata": {},
   "source": [
    "#### 3. Missing Values in `iso_2`\n",
    "##### <font color = blue>Define</font>\n",
    "\n",
    "I will obtain the country code for \"Namibia\" from [CountryCode.org](https://countrycode.org/namibia), I found that the country code for \"Namibia\" is \"NA\", so I will assign that value using `df.loc`.\n",
    "\n",
    "##### <font color = blue>Code</font>"
   ]
  },
  {
   "cell_type": "code",
   "execution_count": 44,
   "metadata": {},
   "outputs": [],
   "source": [
    "# update the iso_2 for the country Namibia\n",
    "df.loc[df['country']=='Namibia', 'iso_2'] = 'NA'"
   ]
  },
  {
   "cell_type": "markdown",
   "metadata": {},
   "source": [
    "##### <font color=blue>Test"
   ]
  },
  {
   "cell_type": "code",
   "execution_count": 45,
   "metadata": {},
   "outputs": [
    {
     "data": {
      "text/html": [
       "<div>\n",
       "<style scoped>\n",
       "    .dataframe tbody tr th:only-of-type {\n",
       "        vertical-align: middle;\n",
       "    }\n",
       "\n",
       "    .dataframe tbody tr th {\n",
       "        vertical-align: top;\n",
       "    }\n",
       "\n",
       "    .dataframe thead th {\n",
       "        text-align: right;\n",
       "    }\n",
       "</style>\n",
       "<table border=\"1\" class=\"dataframe\">\n",
       "  <thead>\n",
       "    <tr style=\"text-align: right;\">\n",
       "      <th></th>\n",
       "      <th>date</th>\n",
       "      <th>cases</th>\n",
       "      <th>deaths</th>\n",
       "      <th>country</th>\n",
       "      <th>iso_2</th>\n",
       "      <th>iso_3</th>\n",
       "      <th>population</th>\n",
       "      <th>continent</th>\n",
       "    </tr>\n",
       "  </thead>\n",
       "  <tbody>\n",
       "    <tr>\n",
       "      <th>21287</th>\n",
       "      <td>31/07/2020</td>\n",
       "      <td>66</td>\n",
       "      <td>1</td>\n",
       "      <td>Namibia</td>\n",
       "      <td>NA</td>\n",
       "      <td>NAM</td>\n",
       "      <td>2494524.0</td>\n",
       "      <td>Africa</td>\n",
       "    </tr>\n",
       "    <tr>\n",
       "      <th>21288</th>\n",
       "      <td>30/07/2020</td>\n",
       "      <td>69</td>\n",
       "      <td>1</td>\n",
       "      <td>Namibia</td>\n",
       "      <td>NA</td>\n",
       "      <td>NAM</td>\n",
       "      <td>2494524.0</td>\n",
       "      <td>Africa</td>\n",
       "    </tr>\n",
       "    <tr>\n",
       "      <th>21289</th>\n",
       "      <td>29/07/2020</td>\n",
       "      <td>74</td>\n",
       "      <td>0</td>\n",
       "      <td>Namibia</td>\n",
       "      <td>NA</td>\n",
       "      <td>NAM</td>\n",
       "      <td>2494524.0</td>\n",
       "      <td>Africa</td>\n",
       "    </tr>\n",
       "    <tr>\n",
       "      <th>21290</th>\n",
       "      <td>28/07/2020</td>\n",
       "      <td>68</td>\n",
       "      <td>0</td>\n",
       "      <td>Namibia</td>\n",
       "      <td>NA</td>\n",
       "      <td>NAM</td>\n",
       "      <td>2494524.0</td>\n",
       "      <td>Africa</td>\n",
       "    </tr>\n",
       "    <tr>\n",
       "      <th>21291</th>\n",
       "      <td>27/07/2020</td>\n",
       "      <td>88</td>\n",
       "      <td>1</td>\n",
       "      <td>Namibia</td>\n",
       "      <td>NA</td>\n",
       "      <td>NAM</td>\n",
       "      <td>2494524.0</td>\n",
       "      <td>Africa</td>\n",
       "    </tr>\n",
       "  </tbody>\n",
       "</table>\n",
       "</div>"
      ],
      "text/plain": [
       "             date  cases  deaths  country iso_2 iso_3  population continent\n",
       "21287  31/07/2020     66       1  Namibia    NA   NAM   2494524.0    Africa\n",
       "21288  30/07/2020     69       1  Namibia    NA   NAM   2494524.0    Africa\n",
       "21289  29/07/2020     74       0  Namibia    NA   NAM   2494524.0    Africa\n",
       "21290  28/07/2020     68       0  Namibia    NA   NAM   2494524.0    Africa\n",
       "21291  27/07/2020     88       1  Namibia    NA   NAM   2494524.0    Africa"
      ]
     },
     "execution_count": 45,
     "metadata": {},
     "output_type": "execute_result"
    }
   ],
   "source": [
    "# check the first five rows of county Namibia\n",
    "df[df['country']=='Namibia'].head()"
   ]
  },
  {
   "cell_type": "markdown",
   "metadata": {},
   "source": [
    "#### 4. Missing values in `countryterritoryCode` and `popData2019`\n",
    "##### <font color =blue>Define</font>\n",
    "\n",
    "- Missing values in both columns is due to the entries where country is equal to \"Cases_on_an_international_conveyance_Japan\" since this is a ship not a country then I will delete it.\n",
    "\n",
    "##### <font color =blue>Code</font>"
   ]
  },
  {
   "cell_type": "code",
   "execution_count": 46,
   "metadata": {},
   "outputs": [],
   "source": [
    "df.drop(df[df['country']=='Cases_on_an_international_conveyance_Japan'].index, inplace=True)"
   ]
  },
  {
   "cell_type": "markdown",
   "metadata": {},
   "source": [
    "##### <font color =blue>Test</font>"
   ]
  },
  {
   "cell_type": "code",
   "execution_count": 47,
   "metadata": {},
   "outputs": [
    {
     "name": "stdout",
     "output_type": "stream",
     "text": [
      "<class 'pandas.core.frame.DataFrame'>\n",
      "Int64Index: 33204 entries, 0 to 33267\n",
      "Data columns (total 8 columns):\n",
      " #   Column      Non-Null Count  Dtype  \n",
      "---  ------      --------------  -----  \n",
      " 0   date        33204 non-null  object \n",
      " 1   cases       33204 non-null  int64  \n",
      " 2   deaths      33204 non-null  int64  \n",
      " 3   country     33204 non-null  object \n",
      " 4   iso_2       33204 non-null  object \n",
      " 5   iso_3       33204 non-null  object \n",
      " 6   population  33204 non-null  float64\n",
      " 7   continent   33204 non-null  object \n",
      "dtypes: float64(1), int64(2), object(5)\n",
      "memory usage: 2.3+ MB\n"
     ]
    }
   ],
   "source": [
    "df.info()"
   ]
  },
  {
   "cell_type": "markdown",
   "metadata": {},
   "source": [
    "#### 5. `dateRep`(`date`) column is a string not a DateTime\n",
    "##### <font color =blue>Define</font>\n",
    "\n",
    "- Change the format of `date` from string to DateTime object using `pd.to_datetime`, also note that the date is in European format, i.e., dd/mm/yyyy, so we need to pass `dayfirst=True`\n",
    "\n",
    "##### <font color =blue>Code</font>"
   ]
  },
  {
   "cell_type": "code",
   "execution_count": 48,
   "metadata": {},
   "outputs": [],
   "source": [
    "df['date'] = pd.to_datetime(df['date'], dayfirst=True)"
   ]
  },
  {
   "cell_type": "markdown",
   "metadata": {},
   "source": [
    "##### <font color =blue>Test</font>"
   ]
  },
  {
   "cell_type": "code",
   "execution_count": 49,
   "metadata": {},
   "outputs": [
    {
     "data": {
      "text/plain": [
       "dtype('<M8[ns]')"
      ]
     },
     "execution_count": 49,
     "metadata": {},
     "output_type": "execute_result"
    }
   ],
   "source": [
    "df['date'].dtype"
   ]
  },
  {
   "cell_type": "markdown",
   "metadata": {},
   "source": [
    "#### 6. `popData2018`(`population`) column is a float not integer\n",
    "##### <font color =blue>Define</font>\n",
    "\n",
    "- Change the format of `population` from float to integer using `pd.DataFrame.astype`\n",
    "\n",
    "##### <font color =blue>Code</font>"
   ]
  },
  {
   "cell_type": "code",
   "execution_count": 50,
   "metadata": {},
   "outputs": [],
   "source": [
    "df['population'] = df['population'].astype(int)"
   ]
  },
  {
   "cell_type": "markdown",
   "metadata": {},
   "source": [
    "##### <font color =blue>Test</font>"
   ]
  },
  {
   "cell_type": "code",
   "execution_count": 51,
   "metadata": {},
   "outputs": [
    {
     "data": {
      "text/plain": [
       "dtype('int32')"
      ]
     },
     "execution_count": 51,
     "metadata": {},
     "output_type": "execute_result"
    }
   ],
   "source": [
    "df['population'].dtype"
   ]
  },
  {
   "cell_type": "markdown",
   "metadata": {},
   "source": [
    "----"
   ]
  },
  {
   "cell_type": "markdown",
   "metadata": {},
   "source": [
    "### `df_ctrys`  DataFrame"
   ]
  },
  {
   "cell_type": "markdown",
   "metadata": {},
   "source": [
    "#### 1.  Change column names\n",
    "##### <font color =blue>Define</font>\n",
    "\n",
    "- Change column names as follows: `Country` to `country` and `country code` to `iso_2` and `Density (P/Km2)` to `density`\n",
    "\n",
    "##### <font color =blue>Code</font>"
   ]
  },
  {
   "cell_type": "code",
   "execution_count": 52,
   "metadata": {},
   "outputs": [],
   "source": [
    "df_ctrys.rename(columns={'Country': 'country', 'Country Code': 'iso_2', 'Density (P/Km2)': 'density'}, inplace=True)"
   ]
  },
  {
   "cell_type": "markdown",
   "metadata": {},
   "source": [
    "##### <font color =blue>Test</font>"
   ]
  },
  {
   "cell_type": "code",
   "execution_count": 53,
   "metadata": {},
   "outputs": [
    {
     "data": {
      "text/html": [
       "<div>\n",
       "<style scoped>\n",
       "    .dataframe tbody tr th:only-of-type {\n",
       "        vertical-align: middle;\n",
       "    }\n",
       "\n",
       "    .dataframe tbody tr th {\n",
       "        vertical-align: top;\n",
       "    }\n",
       "\n",
       "    .dataframe thead th {\n",
       "        text-align: right;\n",
       "    }\n",
       "</style>\n",
       "<table border=\"1\" class=\"dataframe\">\n",
       "  <thead>\n",
       "    <tr style=\"text-align: right;\">\n",
       "      <th></th>\n",
       "      <th>Internal_Row_ID</th>\n",
       "      <th>country</th>\n",
       "      <th>iso_2</th>\n",
       "      <th>Population</th>\n",
       "      <th>Yearly Change</th>\n",
       "      <th>Net Change</th>\n",
       "      <th>density</th>\n",
       "      <th>Land Area (Km2)</th>\n",
       "      <th>Migrants (net)</th>\n",
       "      <th>Fertility Rate</th>\n",
       "      <th>Medium Age</th>\n",
       "      <th>Urban Pop %</th>\n",
       "      <th>World Share</th>\n",
       "    </tr>\n",
       "  </thead>\n",
       "  <tbody>\n",
       "    <tr>\n",
       "      <th>0</th>\n",
       "      <td>1</td>\n",
       "      <td>China</td>\n",
       "      <td>CN</td>\n",
       "      <td>1,439,323,776</td>\n",
       "      <td>0.39%</td>\n",
       "      <td>5,540,090</td>\n",
       "      <td>153.0</td>\n",
       "      <td>9,388,211</td>\n",
       "      <td>-348,399</td>\n",
       "      <td>1.7</td>\n",
       "      <td>38.0</td>\n",
       "      <td>61%</td>\n",
       "      <td>18.47%</td>\n",
       "    </tr>\n",
       "    <tr>\n",
       "      <th>1</th>\n",
       "      <td>2</td>\n",
       "      <td>India</td>\n",
       "      <td>IN</td>\n",
       "      <td>1,380,004,385</td>\n",
       "      <td>0.99%</td>\n",
       "      <td>13,586,631</td>\n",
       "      <td>464.0</td>\n",
       "      <td>2,973,190</td>\n",
       "      <td>-532,687</td>\n",
       "      <td>2.2</td>\n",
       "      <td>28.0</td>\n",
       "      <td>35%</td>\n",
       "      <td>17.70%</td>\n",
       "    </tr>\n",
       "    <tr>\n",
       "      <th>2</th>\n",
       "      <td>3</td>\n",
       "      <td>United States</td>\n",
       "      <td>US</td>\n",
       "      <td>331,002,651</td>\n",
       "      <td>0.59%</td>\n",
       "      <td>1,937,734</td>\n",
       "      <td>36.0</td>\n",
       "      <td>9,147,420</td>\n",
       "      <td>954,806</td>\n",
       "      <td>1.8</td>\n",
       "      <td>38.0</td>\n",
       "      <td>83%</td>\n",
       "      <td>4.25%</td>\n",
       "    </tr>\n",
       "    <tr>\n",
       "      <th>3</th>\n",
       "      <td>4</td>\n",
       "      <td>Indonesia</td>\n",
       "      <td>ID</td>\n",
       "      <td>273,523,615</td>\n",
       "      <td>1.07%</td>\n",
       "      <td>2,898,047</td>\n",
       "      <td>151.0</td>\n",
       "      <td>1,811,570</td>\n",
       "      <td>-98,955</td>\n",
       "      <td>2.3</td>\n",
       "      <td>30.0</td>\n",
       "      <td>56%</td>\n",
       "      <td>3.51%</td>\n",
       "    </tr>\n",
       "    <tr>\n",
       "      <th>4</th>\n",
       "      <td>5</td>\n",
       "      <td>Pakistan</td>\n",
       "      <td>PK</td>\n",
       "      <td>220,892,340</td>\n",
       "      <td>2.00%</td>\n",
       "      <td>4,327,022</td>\n",
       "      <td>287.0</td>\n",
       "      <td>77,088</td>\n",
       "      <td>-233,379</td>\n",
       "      <td>3.6</td>\n",
       "      <td>23.0</td>\n",
       "      <td>35%</td>\n",
       "      <td>2.83%</td>\n",
       "    </tr>\n",
       "  </tbody>\n",
       "</table>\n",
       "</div>"
      ],
      "text/plain": [
       "   Internal_Row_ID        country iso_2     Population Yearly Change  \\\n",
       "0                1          China    CN  1,439,323,776         0.39%   \n",
       "1                2          India    IN  1,380,004,385         0.99%   \n",
       "2                3  United States    US    331,002,651         0.59%   \n",
       "3                4      Indonesia    ID    273,523,615         1.07%   \n",
       "4                5       Pakistan    PK    220,892,340         2.00%   \n",
       "\n",
       "   Net Change  density Land Area (Km2) Migrants (net)  Fertility Rate  \\\n",
       "0   5,540,090    153.0       9,388,211       -348,399             1.7   \n",
       "1  13,586,631    464.0       2,973,190       -532,687             2.2   \n",
       "2   1,937,734     36.0       9,147,420        954,806             1.8   \n",
       "3   2,898,047    151.0       1,811,570        -98,955             2.3   \n",
       "4   4,327,022    287.0          77,088       -233,379             3.6   \n",
       "\n",
       "   Medium Age Urban Pop % World Share  \n",
       "0        38.0         61%      18.47%  \n",
       "1        28.0         35%      17.70%  \n",
       "2        38.0         83%       4.25%  \n",
       "3        30.0         56%       3.51%  \n",
       "4        23.0         35%       2.83%  "
      ]
     },
     "execution_count": 53,
     "metadata": {},
     "output_type": "execute_result"
    }
   ],
   "source": [
    "df_ctrys.head()"
   ]
  },
  {
   "cell_type": "markdown",
   "metadata": {},
   "source": [
    "#### 2.  The country Namibia has missing ISO code\n",
    "##### <font color =blue>Define</font>\n",
    "- From [CountryCode.org](https://countrycode.org/namibia), I found that the country code for \"Namibia\" is \"NA\", so I will assign that value using `df.loc`\n",
    "\n",
    "##### <font color =blue>Code</font>"
   ]
  },
  {
   "cell_type": "code",
   "execution_count": 54,
   "metadata": {},
   "outputs": [],
   "source": [
    "df_ctrys.loc[df_ctrys['country']=='Namibia', 'iso_2'] = 'NA'"
   ]
  },
  {
   "cell_type": "markdown",
   "metadata": {},
   "source": [
    "##### <font color =blue>Test</font>"
   ]
  },
  {
   "cell_type": "code",
   "execution_count": 55,
   "metadata": {},
   "outputs": [
    {
     "data": {
      "text/html": [
       "<div>\n",
       "<style scoped>\n",
       "    .dataframe tbody tr th:only-of-type {\n",
       "        vertical-align: middle;\n",
       "    }\n",
       "\n",
       "    .dataframe tbody tr th {\n",
       "        vertical-align: top;\n",
       "    }\n",
       "\n",
       "    .dataframe thead th {\n",
       "        text-align: right;\n",
       "    }\n",
       "</style>\n",
       "<table border=\"1\" class=\"dataframe\">\n",
       "  <thead>\n",
       "    <tr style=\"text-align: right;\">\n",
       "      <th></th>\n",
       "      <th>Internal_Row_ID</th>\n",
       "      <th>country</th>\n",
       "      <th>iso_2</th>\n",
       "      <th>Population</th>\n",
       "      <th>Yearly Change</th>\n",
       "      <th>Net Change</th>\n",
       "      <th>density</th>\n",
       "      <th>Land Area (Km2)</th>\n",
       "      <th>Migrants (net)</th>\n",
       "      <th>Fertility Rate</th>\n",
       "      <th>Medium Age</th>\n",
       "      <th>Urban Pop %</th>\n",
       "      <th>World Share</th>\n",
       "    </tr>\n",
       "  </thead>\n",
       "  <tbody>\n",
       "    <tr>\n",
       "      <th>142</th>\n",
       "      <td>143</td>\n",
       "      <td>Namibia</td>\n",
       "      <td>NA</td>\n",
       "      <td>2,540,905</td>\n",
       "      <td>1.86%</td>\n",
       "      <td>46,375</td>\n",
       "      <td>3.0</td>\n",
       "      <td>82,329</td>\n",
       "      <td>-4,806</td>\n",
       "      <td>3.4</td>\n",
       "      <td>22.0</td>\n",
       "      <td>55%</td>\n",
       "      <td>0.03%</td>\n",
       "    </tr>\n",
       "  </tbody>\n",
       "</table>\n",
       "</div>"
      ],
      "text/plain": [
       "     Internal_Row_ID  country iso_2 Population Yearly Change Net Change  \\\n",
       "142              143  Namibia    NA  2,540,905         1.86%     46,375   \n",
       "\n",
       "     density Land Area (Km2) Migrants (net)  Fertility Rate  Medium Age  \\\n",
       "142      3.0          82,329         -4,806             3.4        22.0   \n",
       "\n",
       "    Urban Pop % World Share  \n",
       "142         55%       0.03%  "
      ]
     },
     "execution_count": 55,
     "metadata": {},
     "output_type": "execute_result"
    }
   ],
   "source": [
    "df_ctrys[df_ctrys['country']=='Namibia']"
   ]
  },
  {
   "cell_type": "markdown",
   "metadata": {},
   "source": [
    "#### 3.  Drop rows at index 235 and 236\n",
    "##### <font color =blue>Define</font>\n",
    "- Drop those columns using `df.drop` since they don't represent any entries\n",
    "\n",
    "##### <font color =blue>Code</font>"
   ]
  },
  {
   "cell_type": "code",
   "execution_count": 56,
   "metadata": {},
   "outputs": [],
   "source": [
    "df_ctrys.drop(index=[235, 236], inplace=True)"
   ]
  },
  {
   "cell_type": "markdown",
   "metadata": {},
   "source": [
    "##### <font color =blue>Test</font>"
   ]
  },
  {
   "cell_type": "code",
   "execution_count": 57,
   "metadata": {},
   "outputs": [
    {
     "name": "stdout",
     "output_type": "stream",
     "text": [
      "<class 'pandas.core.frame.DataFrame'>\n",
      "Int64Index: 235 entries, 0 to 234\n",
      "Data columns (total 13 columns):\n",
      " #   Column           Non-Null Count  Dtype  \n",
      "---  ------           --------------  -----  \n",
      " 0   Internal_Row_ID  235 non-null    int64  \n",
      " 1   country          235 non-null    object \n",
      " 2   iso_2            235 non-null    object \n",
      " 3   Population       235 non-null    object \n",
      " 4   Yearly Change    235 non-null    object \n",
      " 5   Net Change       235 non-null    object \n",
      " 6   density          235 non-null    float64\n",
      " 7   Land Area (Km2)  235 non-null    object \n",
      " 8   Migrants (net)   201 non-null    object \n",
      " 9   Fertility Rate   201 non-null    float64\n",
      " 10  Medium Age       201 non-null    float64\n",
      " 11  Urban Pop %      222 non-null    object \n",
      " 12  World Share      235 non-null    object \n",
      "dtypes: float64(3), int64(1), object(9)\n",
      "memory usage: 25.7+ KB\n"
     ]
    }
   ],
   "source": [
    "# check the last rows in the dataframe\n",
    "df_ctrys.info()"
   ]
  },
  {
   "cell_type": "markdown",
   "metadata": {},
   "source": [
    "#### 4.  Drop unneeded columns\n",
    "##### <font color =blue>Define</font>\n",
    "- Keep the following columns only: `country`, `ctry_code` and `density`\n",
    "\n",
    "##### <font color =blue>Code</font>"
   ]
  },
  {
   "cell_type": "code",
   "execution_count": 58,
   "metadata": {},
   "outputs": [],
   "source": [
    "df_ctrys = df_ctrys[['country', 'iso_2', 'density']]"
   ]
  },
  {
   "cell_type": "markdown",
   "metadata": {},
   "source": [
    "##### <font color =blue>Test</font>"
   ]
  },
  {
   "cell_type": "code",
   "execution_count": 59,
   "metadata": {},
   "outputs": [
    {
     "name": "stdout",
     "output_type": "stream",
     "text": [
      "<class 'pandas.core.frame.DataFrame'>\n",
      "Int64Index: 235 entries, 0 to 234\n",
      "Data columns (total 3 columns):\n",
      " #   Column   Non-Null Count  Dtype  \n",
      "---  ------   --------------  -----  \n",
      " 0   country  235 non-null    object \n",
      " 1   iso_2    235 non-null    object \n",
      " 2   density  235 non-null    float64\n",
      "dtypes: float64(1), object(2)\n",
      "memory usage: 7.3+ KB\n"
     ]
    }
   ],
   "source": [
    "df_ctrys.info()"
   ]
  },
  {
   "cell_type": "markdown",
   "metadata": {},
   "source": [
    "----"
   ]
  },
  {
   "cell_type": "markdown",
   "metadata": {},
   "source": [
    "### `df_map` DataFrame\n",
    "#### 1. Change column names\n",
    "\n",
    "##### <font color =blue>Define</font>\n",
    "- Change the column names `name` to `country`, `iso_a3` to `iso_3` using `pd.rename`\n",
    "\n",
    "\n",
    "##### <font color =blue>Code</font>"
   ]
  },
  {
   "cell_type": "code",
   "execution_count": 60,
   "metadata": {},
   "outputs": [],
   "source": [
    "df_map.rename(columns = {'name':'country', 'iso_a3': 'iso_3'}, inplace=True)"
   ]
  },
  {
   "cell_type": "markdown",
   "metadata": {},
   "source": [
    "##### <font color =blue>Test</font>"
   ]
  },
  {
   "cell_type": "code",
   "execution_count": 61,
   "metadata": {},
   "outputs": [
    {
     "data": {
      "text/html": [
       "<div>\n",
       "<style scoped>\n",
       "    .dataframe tbody tr th:only-of-type {\n",
       "        vertical-align: middle;\n",
       "    }\n",
       "\n",
       "    .dataframe tbody tr th {\n",
       "        vertical-align: top;\n",
       "    }\n",
       "\n",
       "    .dataframe thead th {\n",
       "        text-align: right;\n",
       "    }\n",
       "</style>\n",
       "<table border=\"1\" class=\"dataframe\">\n",
       "  <thead>\n",
       "    <tr style=\"text-align: right;\">\n",
       "      <th></th>\n",
       "      <th>pop_est</th>\n",
       "      <th>continent</th>\n",
       "      <th>country</th>\n",
       "      <th>iso_3</th>\n",
       "      <th>gdp_md_est</th>\n",
       "      <th>geometry</th>\n",
       "    </tr>\n",
       "  </thead>\n",
       "  <tbody>\n",
       "    <tr>\n",
       "      <th>0</th>\n",
       "      <td>920938</td>\n",
       "      <td>Oceania</td>\n",
       "      <td>Fiji</td>\n",
       "      <td>FJI</td>\n",
       "      <td>8374.0</td>\n",
       "      <td>MULTIPOLYGON (((180.00000 -16.06713, 180.00000...</td>\n",
       "    </tr>\n",
       "    <tr>\n",
       "      <th>1</th>\n",
       "      <td>53950935</td>\n",
       "      <td>Africa</td>\n",
       "      <td>Tanzania</td>\n",
       "      <td>TZA</td>\n",
       "      <td>150600.0</td>\n",
       "      <td>POLYGON ((33.90371 -0.95000, 34.07262 -1.05982...</td>\n",
       "    </tr>\n",
       "    <tr>\n",
       "      <th>2</th>\n",
       "      <td>603253</td>\n",
       "      <td>Africa</td>\n",
       "      <td>W. Sahara</td>\n",
       "      <td>ESH</td>\n",
       "      <td>906.5</td>\n",
       "      <td>POLYGON ((-8.66559 27.65643, -8.66512 27.58948...</td>\n",
       "    </tr>\n",
       "    <tr>\n",
       "      <th>3</th>\n",
       "      <td>35623680</td>\n",
       "      <td>North America</td>\n",
       "      <td>Canada</td>\n",
       "      <td>CAN</td>\n",
       "      <td>1674000.0</td>\n",
       "      <td>MULTIPOLYGON (((-122.84000 49.00000, -122.9742...</td>\n",
       "    </tr>\n",
       "    <tr>\n",
       "      <th>4</th>\n",
       "      <td>326625791</td>\n",
       "      <td>North America</td>\n",
       "      <td>United States of America</td>\n",
       "      <td>USA</td>\n",
       "      <td>18560000.0</td>\n",
       "      <td>MULTIPOLYGON (((-122.84000 49.00000, -120.0000...</td>\n",
       "    </tr>\n",
       "  </tbody>\n",
       "</table>\n",
       "</div>"
      ],
      "text/plain": [
       "     pop_est      continent                   country iso_3  gdp_md_est  \\\n",
       "0     920938        Oceania                      Fiji   FJI      8374.0   \n",
       "1   53950935         Africa                  Tanzania   TZA    150600.0   \n",
       "2     603253         Africa                 W. Sahara   ESH       906.5   \n",
       "3   35623680  North America                    Canada   CAN   1674000.0   \n",
       "4  326625791  North America  United States of America   USA  18560000.0   \n",
       "\n",
       "                                            geometry  \n",
       "0  MULTIPOLYGON (((180.00000 -16.06713, 180.00000...  \n",
       "1  POLYGON ((33.90371 -0.95000, 34.07262 -1.05982...  \n",
       "2  POLYGON ((-8.66559 27.65643, -8.66512 27.58948...  \n",
       "3  MULTIPOLYGON (((-122.84000 49.00000, -122.9742...  \n",
       "4  MULTIPOLYGON (((-122.84000 49.00000, -120.0000...  "
      ]
     },
     "execution_count": 61,
     "metadata": {},
     "output_type": "execute_result"
    }
   ],
   "source": [
    "df_map.head()"
   ]
  },
  {
   "cell_type": "markdown",
   "metadata": {},
   "source": [
    "#### 2. Drop `pop_est` and `gdp_md_est`\n",
    "\n",
    "##### <font color =blue>Define</font>\n",
    "- Drop `pop_est` and `gdp_md_est` columns using `df.drop()` since I don't need them\n",
    "\n",
    "\n",
    "##### <font color =blue>Code</font>"
   ]
  },
  {
   "cell_type": "code",
   "execution_count": 63,
   "metadata": {},
   "outputs": [],
   "source": [
    "df_map.drop(columns=['pop_est', 'gdp_md_est'], inplace=True)"
   ]
  },
  {
   "cell_type": "markdown",
   "metadata": {},
   "source": [
    "##### <font color =blue>Test</font>"
   ]
  },
  {
   "cell_type": "code",
   "execution_count": 64,
   "metadata": {},
   "outputs": [
    {
     "data": {
      "text/html": [
       "<div>\n",
       "<style scoped>\n",
       "    .dataframe tbody tr th:only-of-type {\n",
       "        vertical-align: middle;\n",
       "    }\n",
       "\n",
       "    .dataframe tbody tr th {\n",
       "        vertical-align: top;\n",
       "    }\n",
       "\n",
       "    .dataframe thead th {\n",
       "        text-align: right;\n",
       "    }\n",
       "</style>\n",
       "<table border=\"1\" class=\"dataframe\">\n",
       "  <thead>\n",
       "    <tr style=\"text-align: right;\">\n",
       "      <th></th>\n",
       "      <th>continent</th>\n",
       "      <th>country</th>\n",
       "      <th>iso_3</th>\n",
       "      <th>geometry</th>\n",
       "    </tr>\n",
       "  </thead>\n",
       "  <tbody>\n",
       "    <tr>\n",
       "      <th>0</th>\n",
       "      <td>Oceania</td>\n",
       "      <td>Fiji</td>\n",
       "      <td>FJI</td>\n",
       "      <td>MULTIPOLYGON (((180.00000 -16.06713, 180.00000...</td>\n",
       "    </tr>\n",
       "    <tr>\n",
       "      <th>1</th>\n",
       "      <td>Africa</td>\n",
       "      <td>Tanzania</td>\n",
       "      <td>TZA</td>\n",
       "      <td>POLYGON ((33.90371 -0.95000, 34.07262 -1.05982...</td>\n",
       "    </tr>\n",
       "    <tr>\n",
       "      <th>2</th>\n",
       "      <td>Africa</td>\n",
       "      <td>W. Sahara</td>\n",
       "      <td>ESH</td>\n",
       "      <td>POLYGON ((-8.66559 27.65643, -8.66512 27.58948...</td>\n",
       "    </tr>\n",
       "    <tr>\n",
       "      <th>3</th>\n",
       "      <td>North America</td>\n",
       "      <td>Canada</td>\n",
       "      <td>CAN</td>\n",
       "      <td>MULTIPOLYGON (((-122.84000 49.00000, -122.9742...</td>\n",
       "    </tr>\n",
       "    <tr>\n",
       "      <th>4</th>\n",
       "      <td>North America</td>\n",
       "      <td>United States of America</td>\n",
       "      <td>USA</td>\n",
       "      <td>MULTIPOLYGON (((-122.84000 49.00000, -120.0000...</td>\n",
       "    </tr>\n",
       "  </tbody>\n",
       "</table>\n",
       "</div>"
      ],
      "text/plain": [
       "       continent                   country iso_3  \\\n",
       "0        Oceania                      Fiji   FJI   \n",
       "1         Africa                  Tanzania   TZA   \n",
       "2         Africa                 W. Sahara   ESH   \n",
       "3  North America                    Canada   CAN   \n",
       "4  North America  United States of America   USA   \n",
       "\n",
       "                                            geometry  \n",
       "0  MULTIPOLYGON (((180.00000 -16.06713, 180.00000...  \n",
       "1  POLYGON ((33.90371 -0.95000, 34.07262 -1.05982...  \n",
       "2  POLYGON ((-8.66559 27.65643, -8.66512 27.58948...  \n",
       "3  MULTIPOLYGON (((-122.84000 49.00000, -122.9742...  \n",
       "4  MULTIPOLYGON (((-122.84000 49.00000, -120.0000...  "
      ]
     },
     "execution_count": 64,
     "metadata": {},
     "output_type": "execute_result"
    }
   ],
   "source": [
    "df_map.head()"
   ]
  },
  {
   "cell_type": "markdown",
   "metadata": {},
   "source": [
    "#### 3. Delete Antarctica\n",
    "\n",
    "##### <font color =blue>Define</font>\n",
    "- Since we don't have any cases in Antactica and it takes a alarge space on the map, I will delete it from the `df_map`\n",
    "\n",
    "\n",
    "##### <font color =blue>Code</font>"
   ]
  },
  {
   "cell_type": "code",
   "execution_count": 65,
   "metadata": {},
   "outputs": [],
   "source": [
    "df_map.drop(df_map[df_map['country']=='Antarctica'].index, inplace=True)"
   ]
  },
  {
   "cell_type": "markdown",
   "metadata": {},
   "source": [
    "##### <font color =blue>Test</font>"
   ]
  },
  {
   "cell_type": "code",
   "execution_count": 66,
   "metadata": {},
   "outputs": [
    {
     "data": {
      "image/png": "[encoded data removed]",
      "text/plain": [
       "<Figure size 432x288 with 1 Axes>"
      ]
     },
     "metadata": {
      "needs_background": "light"
     },
     "output_type": "display_data"
    }
   ],
   "source": [
    "df_map.plot();"
   ]
  },
  {
   "cell_type": "markdown",
   "metadata": {},
   "source": [
    "----"
   ]
  },
  {
   "cell_type": "code",
   "execution_count": 67,
   "metadata": {},
   "outputs": [
    {
     "name": "stdout",
     "output_type": "stream",
     "text": [
      "The number of unique Coutnries in df is: 209\n",
      "The number of unique Coutnries in df_ctrys is: 235\n",
      "The number of unique Coutnries in df_map is: 176\n"
     ]
    }
   ],
   "source": [
    "# find the number of unique countries in all three DataFrames\n",
    "print('The number of unique Coutnries in df is:', len(df['country'].unique()))\n",
    "print('The number of unique Coutnries in df_ctrys is:', len(df_ctrys))\n",
    "print('The number of unique Coutnries in df_map is:', len(df_map['country'].unique()))"
   ]
  },
  {
   "cell_type": "markdown",
   "metadata": {},
   "source": [
    "### Merging `df`, `df_ctrys`, and `df_map`\n",
    "At this point, we have three DataFrames `df`, `df_ctrys`, and `df_map` with different unique number of countries. Now, I will need to make two merges, the first merge is between `df` and `df_by_ctry`, and the second merge is between the merged DataFrame and `df_map`.\n",
    "\n",
    "I could merge all the three DataFramee now, but this will cause a problem. Since the entries in `df` is recorded per day not per country, merging it with `df_map` will prevent the geometry column from plotting. One solution is to group entries in `df` by `country`. However, doing this in the cleaning phase will prevent me from further analysis later in the exploration phase. For example, later, I may want to make analysis on daily or weekly cases, and so on. Therefore, I will keep this merging in the exploration phase, but I will clean both files to make them ready for merging later.\n",
    "\n",
    "Now, it is okay to merge `df` and `df_ctrys` here. Since I care more about the countries with cases and deaths, I will make`df` the left DataFrame and merge on `iso_2`"
   ]
  },
  {
   "cell_type": "markdown",
   "metadata": {},
   "source": [
    "### Assess `df` and `df_ctrys` for Merging"
   ]
  },
  {
   "cell_type": "code",
   "execution_count": 77,
   "metadata": {},
   "outputs": [
    {
     "data": {
      "text/plain": [
       "array(['Greece', 'Guernsey', 'Jersey', 'Kosovo', 'United_Kingdom'],\n",
       "      dtype=object)"
      ]
     },
     "execution_count": 77,
     "metadata": {},
     "output_type": "execute_result"
    }
   ],
   "source": [
    "# check which countries are in df but not in df_ctrys\n",
    "missmatch = df[~df['iso_2'].isin(df_ctrys['iso_2'])]['country'].unique()\n",
    "missmatch"
   ]
  },
  {
   "cell_type": "markdown",
   "metadata": {},
   "source": [
    "We see that we have five countries/entities in `df` that are not in `df_ctrys`. There could be two reasons for that, one is that the ISO code could have been written differently in each DataFrame, or simply, the country is not available in the second DataFrame. To look for those countries in `df_ctrys`, I will take the most common part of the word for each of the above country names and search it in the other DataFrame, if found, I will search online for the correct ISO code and replace the wrong one. If not, then it means the country is not available in `df_ctrys` and I need to add it."
   ]
  },
  {
   "cell_type": "code",
   "execution_count": 78,
   "metadata": {},
   "outputs": [
    {
     "data": {
      "text/html": [
       "<div>\n",
       "<style scoped>\n",
       "    .dataframe tbody tr th:only-of-type {\n",
       "        vertical-align: middle;\n",
       "    }\n",
       "\n",
       "    .dataframe tbody tr th {\n",
       "        vertical-align: top;\n",
       "    }\n",
       "\n",
       "    .dataframe thead th {\n",
       "        text-align: right;\n",
       "    }\n",
       "</style>\n",
       "<table border=\"1\" class=\"dataframe\">\n",
       "  <thead>\n",
       "    <tr style=\"text-align: right;\">\n",
       "      <th></th>\n",
       "      <th>country</th>\n",
       "      <th>iso_2</th>\n",
       "      <th>density</th>\n",
       "    </tr>\n",
       "  </thead>\n",
       "  <tbody>\n",
       "    <tr>\n",
       "      <th>86</th>\n",
       "      <td>Greece</td>\n",
       "      <td>GR</td>\n",
       "      <td>81.0</td>\n",
       "    </tr>\n",
       "  </tbody>\n",
       "</table>\n",
       "</div>"
      ],
      "text/plain": [
       "   country iso_2  density\n",
       "86  Greece    GR     81.0"
      ]
     },
     "execution_count": 78,
     "metadata": {},
     "output_type": "execute_result"
    }
   ],
   "source": [
    "# use pd.str.contains() to look for part of those missing countries and find them wit ISO code in df_ctrys\n",
    "# Greece\n",
    "df_ctrys[df_ctrys['country'].str.contains('Greece')]"
   ]
  },
  {
   "cell_type": "code",
   "execution_count": 79,
   "metadata": {},
   "outputs": [
    {
     "data": {
      "text/plain": [
       "array(['EL'], dtype=object)"
      ]
     },
     "execution_count": 79,
     "metadata": {},
     "output_type": "execute_result"
    }
   ],
   "source": [
    "# check how the ISO code was reocrded in df\n",
    "df[df['country']=='Greece']['iso_2'].unique()"
   ]
  },
  {
   "cell_type": "code",
   "execution_count": 80,
   "metadata": {},
   "outputs": [
    {
     "data": {
      "text/html": [
       "<div>\n",
       "<style scoped>\n",
       "    .dataframe tbody tr th:only-of-type {\n",
       "        vertical-align: middle;\n",
       "    }\n",
       "\n",
       "    .dataframe tbody tr th {\n",
       "        vertical-align: top;\n",
       "    }\n",
       "\n",
       "    .dataframe thead th {\n",
       "        text-align: right;\n",
       "    }\n",
       "</style>\n",
       "<table border=\"1\" class=\"dataframe\">\n",
       "  <thead>\n",
       "    <tr style=\"text-align: right;\">\n",
       "      <th></th>\n",
       "      <th>country</th>\n",
       "      <th>iso_2</th>\n",
       "      <th>density</th>\n",
       "    </tr>\n",
       "  </thead>\n",
       "  <tbody>\n",
       "  </tbody>\n",
       "</table>\n",
       "</div>"
      ],
      "text/plain": [
       "Empty DataFrame\n",
       "Columns: [country, iso_2, density]\n",
       "Index: []"
      ]
     },
     "execution_count": 80,
     "metadata": {},
     "output_type": "execute_result"
    }
   ],
   "source": [
    "# Guernsey and Jersey\n",
    "df_ctrys[df_ctrys['country'].str.contains('sey')]"
   ]
  },
  {
   "cell_type": "code",
   "execution_count": 81,
   "metadata": {},
   "outputs": [
    {
     "data": {
      "text/html": [
       "<div>\n",
       "<style scoped>\n",
       "    .dataframe tbody tr th:only-of-type {\n",
       "        vertical-align: middle;\n",
       "    }\n",
       "\n",
       "    .dataframe tbody tr th {\n",
       "        vertical-align: top;\n",
       "    }\n",
       "\n",
       "    .dataframe thead th {\n",
       "        text-align: right;\n",
       "    }\n",
       "</style>\n",
       "<table border=\"1\" class=\"dataframe\">\n",
       "  <thead>\n",
       "    <tr style=\"text-align: right;\">\n",
       "      <th></th>\n",
       "      <th>country</th>\n",
       "      <th>iso_2</th>\n",
       "      <th>density</th>\n",
       "    </tr>\n",
       "  </thead>\n",
       "  <tbody>\n",
       "  </tbody>\n",
       "</table>\n",
       "</div>"
      ],
      "text/plain": [
       "Empty DataFrame\n",
       "Columns: [country, iso_2, density]\n",
       "Index: []"
      ]
     },
     "execution_count": 81,
     "metadata": {},
     "output_type": "execute_result"
    }
   ],
   "source": [
    "#Kosovo\n",
    "df_ctrys[df_ctrys['country'].str.contains('oso')]"
   ]
  },
  {
   "cell_type": "code",
   "execution_count": 82,
   "metadata": {},
   "outputs": [
    {
     "data": {
      "text/html": [
       "<div>\n",
       "<style scoped>\n",
       "    .dataframe tbody tr th:only-of-type {\n",
       "        vertical-align: middle;\n",
       "    }\n",
       "\n",
       "    .dataframe tbody tr th {\n",
       "        vertical-align: top;\n",
       "    }\n",
       "\n",
       "    .dataframe thead th {\n",
       "        text-align: right;\n",
       "    }\n",
       "</style>\n",
       "<table border=\"1\" class=\"dataframe\">\n",
       "  <thead>\n",
       "    <tr style=\"text-align: right;\">\n",
       "      <th></th>\n",
       "      <th>country</th>\n",
       "      <th>iso_2</th>\n",
       "      <th>density</th>\n",
       "    </tr>\n",
       "  </thead>\n",
       "  <tbody>\n",
       "    <tr>\n",
       "      <th>2</th>\n",
       "      <td>United States</td>\n",
       "      <td>US</td>\n",
       "      <td>36.0</td>\n",
       "    </tr>\n",
       "    <tr>\n",
       "      <th>20</th>\n",
       "      <td>United Kingdom</td>\n",
       "      <td>GB</td>\n",
       "      <td>281.0</td>\n",
       "    </tr>\n",
       "    <tr>\n",
       "      <th>92</th>\n",
       "      <td>United Arab Emirates</td>\n",
       "      <td>AE</td>\n",
       "      <td>118.0</td>\n",
       "    </tr>\n",
       "  </tbody>\n",
       "</table>\n",
       "</div>"
      ],
      "text/plain": [
       "                 country iso_2  density\n",
       "2          United States    US     36.0\n",
       "20        United Kingdom    GB    281.0\n",
       "92  United Arab Emirates    AE    118.0"
      ]
     },
     "execution_count": 82,
     "metadata": {},
     "output_type": "execute_result"
    }
   ],
   "source": [
    "# United_Kingdom\n",
    "df_ctrys[df_ctrys['country'].str.contains('United')]"
   ]
  },
  {
   "cell_type": "code",
   "execution_count": 83,
   "metadata": {},
   "outputs": [
    {
     "data": {
      "text/plain": [
       "array(['UK'], dtype=object)"
      ]
     },
     "execution_count": 83,
     "metadata": {},
     "output_type": "execute_result"
    }
   ],
   "source": [
    "# check how the ISO code was recorded in df for United Kingdom\n",
    "df[df['country']=='United_Kingdom']['iso_2'].unique()"
   ]
  },
  {
   "cell_type": "markdown",
   "metadata": {},
   "source": [
    "Now, I am interested in looking for countries that are available in `df_ctrys` but not in `df`, is it because those countries have not yet recorded cases, or there are some other issues?"
   ]
  },
  {
   "cell_type": "code",
   "execution_count": 84,
   "metadata": {},
   "outputs": [
    {
     "data": {
      "text/plain": [
       "array(['United Kingdom', 'North Korea', 'Greece', 'Hong Kong',\n",
       "       'Turkmenistan', 'Réunion', 'Solomon Islands', 'Macao',\n",
       "       'Guadeloupe', 'Martinique', 'Vanuatu', 'French Guiana', 'Mayotte',\n",
       "       'Samoa', 'Channel Islands', 'Kiribati', 'Micronesia', 'Tonga',\n",
       "       'Marshall Islands', 'American Samoa', 'Saint Martin', 'Palau',\n",
       "       'Cook Islands', 'Tuvalu', 'Wallis & Futuna', 'Nauru',\n",
       "       'Saint Barthelemy', 'Saint Helena', 'Saint Pierre & Miquelon',\n",
       "       'Niue', 'Tokelau'], dtype=object)"
      ]
     },
     "execution_count": 84,
     "metadata": {},
     "output_type": "execute_result"
    }
   ],
   "source": [
    "df_ctrys[~df_ctrys['iso_2'].isin(df['iso_2'])]['country'].unique()"
   ]
  },
  {
   "cell_type": "markdown",
   "metadata": {},
   "source": [
    "So most of those countries are islands and small entities that I am not going to worry about assuming they still have not yet gotten cases. However, I am concerned about 'Turkmenistan', 'North Korea' and 'Hong Kong'. After looking online, I found that 'Turkmenistan' and 'North Korea' have not yet recorded cases. However, 'Hong Kong' has recorded cases. To count for ‘Hong Kong’, I will assume their data are included in 'China' in the original data, `df`"
   ]
  },
  {
   "cell_type": "markdown",
   "metadata": {},
   "source": [
    "### To Clean  `df` and `df_ctrys` for Merging:\n",
    "#### `df` with `df_ctrys`\n",
    "1. ISO code for 'Greece' was recorded as 'EL' in `df` while 'GR' in `df_ctrys`\n",
    "2. ISO code for 'United Kingdom' was recorded as 'UK' in `df` while 'GB' in `df_ctrys`\n",
    "3. Islands 'Guernsey', 'Jersey', ‘Kosovo’ are not available in `df_ctry`"
   ]
  },
  {
   "cell_type": "markdown",
   "metadata": {},
   "source": [
    "### Clean "
   ]
  },
  {
   "cell_type": "code",
   "execution_count": 85,
   "metadata": {},
   "outputs": [],
   "source": [
    "# create a copy of df and df_ctrys\n",
    "df_copy = df.copy()\n",
    "df_ctrys_copy = df_ctrys.copy()"
   ]
  },
  {
   "cell_type": "markdown",
   "metadata": {},
   "source": [
    "#### 1.  Greece and United Kingdom ISO code is a missmatch\n",
    "##### <font color =blue>Define</font>\n",
    "- Since the ISO code is different in both dataframes, I searched the correct value using [iban.com](https://www.iban.com/country-codes) and found the correct code is \"GR\" for Greece and \"GB\" for the United Kingdom, so I will change the value of `iso_2` column in `df` using `pd.replace()`\n",
    "\n",
    "##### <font color =blue>Code</font>"
   ]
  },
  {
   "cell_type": "code",
   "execution_count": 86,
   "metadata": {},
   "outputs": [],
   "source": [
    "df_copy['iso_2'].replace({'EL': 'GR', 'UK': 'GB'}, inplace=True)"
   ]
  },
  {
   "cell_type": "markdown",
   "metadata": {},
   "source": [
    "##### <font color =blue>Test</font>"
   ]
  },
  {
   "cell_type": "code",
   "execution_count": 87,
   "metadata": {},
   "outputs": [
    {
     "data": {
      "text/plain": [
       "array(['Guernsey', 'Jersey', 'Kosovo'], dtype=object)"
      ]
     },
     "execution_count": 87,
     "metadata": {},
     "output_type": "execute_result"
    }
   ],
   "source": [
    "missmatch = df_copy[~df_copy['iso_2'].isin(df_ctrys_copy['iso_2'])]['country'].unique()\n",
    "missmatch"
   ]
  },
  {
   "cell_type": "markdown",
   "metadata": {},
   "source": [
    "#### 2.  \"Guernsey\", \"Jersey\", and \"Kosovo\" records are not available in `df_ctrys`\n",
    "##### <font color =blue>Define</font>\n",
    "- From [Wikipedia](https://en.wikipedia.org/wiki/Guernsey) I will get the required info, create a dictionary, create a DataFrame from that dictionary then use`df.append()` method to add the new DataFrame to `df_ctrys_copy`\n",
    "\n",
    "##### <font color =blue>Code</font>"
   ]
  },
  {
   "cell_type": "code",
   "execution_count": 88,
   "metadata": {},
   "outputs": [
    {
     "data": {
      "text/html": [
       "<div>\n",
       "<style scoped>\n",
       "    .dataframe tbody tr th:only-of-type {\n",
       "        vertical-align: middle;\n",
       "    }\n",
       "\n",
       "    .dataframe tbody tr th {\n",
       "        vertical-align: top;\n",
       "    }\n",
       "\n",
       "    .dataframe thead th {\n",
       "        text-align: right;\n",
       "    }\n",
       "</style>\n",
       "<table border=\"1\" class=\"dataframe\">\n",
       "  <thead>\n",
       "    <tr style=\"text-align: right;\">\n",
       "      <th></th>\n",
       "      <th>country</th>\n",
       "      <th>iso_2</th>\n",
       "      <th>density</th>\n",
       "    </tr>\n",
       "  </thead>\n",
       "  <tbody>\n",
       "    <tr>\n",
       "      <th>0</th>\n",
       "      <td>Guernsey</td>\n",
       "      <td>GG</td>\n",
       "      <td>965</td>\n",
       "    </tr>\n",
       "    <tr>\n",
       "      <th>1</th>\n",
       "      <td>Jersey</td>\n",
       "      <td>JE</td>\n",
       "      <td>912</td>\n",
       "    </tr>\n",
       "    <tr>\n",
       "      <th>2</th>\n",
       "      <td>Kosovo</td>\n",
       "      <td>XK</td>\n",
       "      <td>159</td>\n",
       "    </tr>\n",
       "  </tbody>\n",
       "</table>\n",
       "</div>"
      ],
      "text/plain": [
       "    country iso_2  density\n",
       "0  Guernsey    GG      965\n",
       "1    Jersey    JE      912\n",
       "2    Kosovo    XK      159"
      ]
     },
     "execution_count": 88,
     "metadata": {},
     "output_type": "execute_result"
    }
   ],
   "source": [
    "# create a dictionary to add the three rows\n",
    "new_rows = {'country': ['Guernsey', 'Jersey', 'Kosovo'], 'iso_2': ['GG', 'JE', 'XK'], 'density': [965, 912, 159]}\n",
    "\n",
    "# create a new df to append to df_ctrys_copy\n",
    "new_df = pd.DataFrame(new_rows)\n",
    "new_df"
   ]
  },
  {
   "cell_type": "code",
   "execution_count": 89,
   "metadata": {},
   "outputs": [],
   "source": [
    "# append new_df to df_ctrys_copy\n",
    "df_ctrys_copy = df_ctrys_copy.append(new_df, ignore_index=True)"
   ]
  },
  {
   "cell_type": "markdown",
   "metadata": {},
   "source": [
    "##### <font color =blue>Test</font>"
   ]
  },
  {
   "cell_type": "code",
   "execution_count": 90,
   "metadata": {},
   "outputs": [
    {
     "data": {
      "text/html": [
       "<div>\n",
       "<style scoped>\n",
       "    .dataframe tbody tr th:only-of-type {\n",
       "        vertical-align: middle;\n",
       "    }\n",
       "\n",
       "    .dataframe tbody tr th {\n",
       "        vertical-align: top;\n",
       "    }\n",
       "\n",
       "    .dataframe thead th {\n",
       "        text-align: right;\n",
       "    }\n",
       "</style>\n",
       "<table border=\"1\" class=\"dataframe\">\n",
       "  <thead>\n",
       "    <tr style=\"text-align: right;\">\n",
       "      <th></th>\n",
       "      <th>country</th>\n",
       "      <th>iso_2</th>\n",
       "      <th>density</th>\n",
       "    </tr>\n",
       "  </thead>\n",
       "  <tbody>\n",
       "    <tr>\n",
       "      <th>233</th>\n",
       "      <td>Tokelau</td>\n",
       "      <td>TK</td>\n",
       "      <td>136.0</td>\n",
       "    </tr>\n",
       "    <tr>\n",
       "      <th>234</th>\n",
       "      <td>Holy See</td>\n",
       "      <td>VA</td>\n",
       "      <td>2003.0</td>\n",
       "    </tr>\n",
       "    <tr>\n",
       "      <th>235</th>\n",
       "      <td>Guernsey</td>\n",
       "      <td>GG</td>\n",
       "      <td>965.0</td>\n",
       "    </tr>\n",
       "    <tr>\n",
       "      <th>236</th>\n",
       "      <td>Jersey</td>\n",
       "      <td>JE</td>\n",
       "      <td>912.0</td>\n",
       "    </tr>\n",
       "    <tr>\n",
       "      <th>237</th>\n",
       "      <td>Kosovo</td>\n",
       "      <td>XK</td>\n",
       "      <td>159.0</td>\n",
       "    </tr>\n",
       "  </tbody>\n",
       "</table>\n",
       "</div>"
      ],
      "text/plain": [
       "      country iso_2  density\n",
       "233   Tokelau    TK    136.0\n",
       "234  Holy See    VA   2003.0\n",
       "235  Guernsey    GG    965.0\n",
       "236    Jersey    JE    912.0\n",
       "237    Kosovo    XK    159.0"
      ]
     },
     "execution_count": 90,
     "metadata": {},
     "output_type": "execute_result"
    }
   ],
   "source": [
    "df_ctrys_copy.tail()"
   ]
  },
  {
   "cell_type": "code",
   "execution_count": 91,
   "metadata": {},
   "outputs": [
    {
     "data": {
      "text/plain": [
       "array([], dtype=object)"
      ]
     },
     "execution_count": 91,
     "metadata": {},
     "output_type": "execute_result"
    }
   ],
   "source": [
    "# check if we still have missmatch\n",
    "missmatch = df_copy[~df_copy['iso_2'].isin(df_ctrys_copy['iso_2'])]['country'].unique()\n",
    "missmatch"
   ]
  },
  {
   "cell_type": "markdown",
   "metadata": {},
   "source": [
    "Now, we should be able to merge both DataFrames on `iso_2`"
   ]
  },
  {
   "cell_type": "code",
   "execution_count": 92,
   "metadata": {},
   "outputs": [],
   "source": [
    "# create a new df, df_merge \n",
    "df_merge = pd.merge(df_copy, df_ctrys_copy, how='left', left_on='iso_2', right_on='iso_2')"
   ]
  },
  {
   "cell_type": "code",
   "execution_count": 93,
   "metadata": {},
   "outputs": [
    {
     "data": {
      "text/html": [
       "<div>\n",
       "<style scoped>\n",
       "    .dataframe tbody tr th:only-of-type {\n",
       "        vertical-align: middle;\n",
       "    }\n",
       "\n",
       "    .dataframe tbody tr th {\n",
       "        vertical-align: top;\n",
       "    }\n",
       "\n",
       "    .dataframe thead th {\n",
       "        text-align: right;\n",
       "    }\n",
       "</style>\n",
       "<table border=\"1\" class=\"dataframe\">\n",
       "  <thead>\n",
       "    <tr style=\"text-align: right;\">\n",
       "      <th></th>\n",
       "      <th>date</th>\n",
       "      <th>cases</th>\n",
       "      <th>deaths</th>\n",
       "      <th>country_x</th>\n",
       "      <th>iso_2</th>\n",
       "      <th>iso_3</th>\n",
       "      <th>population</th>\n",
       "      <th>continent</th>\n",
       "      <th>country_y</th>\n",
       "      <th>density</th>\n",
       "    </tr>\n",
       "  </thead>\n",
       "  <tbody>\n",
       "    <tr>\n",
       "      <th>0</th>\n",
       "      <td>2020-07-31</td>\n",
       "      <td>71</td>\n",
       "      <td>0</td>\n",
       "      <td>Afghanistan</td>\n",
       "      <td>AF</td>\n",
       "      <td>AFG</td>\n",
       "      <td>38041757</td>\n",
       "      <td>Asia</td>\n",
       "      <td>Afghanistan</td>\n",
       "      <td>60.0</td>\n",
       "    </tr>\n",
       "    <tr>\n",
       "      <th>1</th>\n",
       "      <td>2020-07-30</td>\n",
       "      <td>0</td>\n",
       "      <td>0</td>\n",
       "      <td>Afghanistan</td>\n",
       "      <td>AF</td>\n",
       "      <td>AFG</td>\n",
       "      <td>38041757</td>\n",
       "      <td>Asia</td>\n",
       "      <td>Afghanistan</td>\n",
       "      <td>60.0</td>\n",
       "    </tr>\n",
       "    <tr>\n",
       "      <th>2</th>\n",
       "      <td>2020-07-29</td>\n",
       "      <td>103</td>\n",
       "      <td>1</td>\n",
       "      <td>Afghanistan</td>\n",
       "      <td>AF</td>\n",
       "      <td>AFG</td>\n",
       "      <td>38041757</td>\n",
       "      <td>Asia</td>\n",
       "      <td>Afghanistan</td>\n",
       "      <td>60.0</td>\n",
       "    </tr>\n",
       "    <tr>\n",
       "      <th>3</th>\n",
       "      <td>2020-07-28</td>\n",
       "      <td>105</td>\n",
       "      <td>1</td>\n",
       "      <td>Afghanistan</td>\n",
       "      <td>AF</td>\n",
       "      <td>AFG</td>\n",
       "      <td>38041757</td>\n",
       "      <td>Asia</td>\n",
       "      <td>Afghanistan</td>\n",
       "      <td>60.0</td>\n",
       "    </tr>\n",
       "    <tr>\n",
       "      <th>4</th>\n",
       "      <td>2020-07-27</td>\n",
       "      <td>106</td>\n",
       "      <td>10</td>\n",
       "      <td>Afghanistan</td>\n",
       "      <td>AF</td>\n",
       "      <td>AFG</td>\n",
       "      <td>38041757</td>\n",
       "      <td>Asia</td>\n",
       "      <td>Afghanistan</td>\n",
       "      <td>60.0</td>\n",
       "    </tr>\n",
       "  </tbody>\n",
       "</table>\n",
       "</div>"
      ],
      "text/plain": [
       "        date  cases  deaths    country_x iso_2 iso_3  population continent  \\\n",
       "0 2020-07-31     71       0  Afghanistan    AF   AFG    38041757      Asia   \n",
       "1 2020-07-30      0       0  Afghanistan    AF   AFG    38041757      Asia   \n",
       "2 2020-07-29    103       1  Afghanistan    AF   AFG    38041757      Asia   \n",
       "3 2020-07-28    105       1  Afghanistan    AF   AFG    38041757      Asia   \n",
       "4 2020-07-27    106      10  Afghanistan    AF   AFG    38041757      Asia   \n",
       "\n",
       "     country_y  density  \n",
       "0  Afghanistan     60.0  \n",
       "1  Afghanistan     60.0  \n",
       "2  Afghanistan     60.0  \n",
       "3  Afghanistan     60.0  \n",
       "4  Afghanistan     60.0  "
      ]
     },
     "execution_count": 93,
     "metadata": {},
     "output_type": "execute_result"
    }
   ],
   "source": [
    "# check the head of df_merge\n",
    "df_merge.head()"
   ]
  },
  {
   "cell_type": "code",
   "execution_count": 94,
   "metadata": {},
   "outputs": [
    {
     "name": "stdout",
     "output_type": "stream",
     "text": [
      "<class 'pandas.core.frame.DataFrame'>\n",
      "Int64Index: 33204 entries, 0 to 33203\n",
      "Data columns (total 10 columns):\n",
      " #   Column      Non-Null Count  Dtype         \n",
      "---  ------      --------------  -----         \n",
      " 0   date        33204 non-null  datetime64[ns]\n",
      " 1   cases       33204 non-null  int64         \n",
      " 2   deaths      33204 non-null  int64         \n",
      " 3   country_x   33204 non-null  object        \n",
      " 4   iso_2       33204 non-null  object        \n",
      " 5   iso_3       33204 non-null  object        \n",
      " 6   population  33204 non-null  int32         \n",
      " 7   continent   33204 non-null  object        \n",
      " 8   country_y   33204 non-null  object        \n",
      " 9   density     33204 non-null  float64       \n",
      "dtypes: datetime64[ns](1), float64(1), int32(1), int64(2), object(5)\n",
      "memory usage: 2.7+ MB\n"
     ]
    }
   ],
   "source": [
    "df_merge.info()"
   ]
  },
  {
   "cell_type": "markdown",
   "metadata": {},
   "source": [
    "As we can see, new columns were created, this is because both DataFrames we merged have the same column names, so pandas renamed those columns by adding x and y. Since I want to have the data from `df_copy`, i.e., the left DataFrame, I will drop `country_y` then rename `country_x` to `country`"
   ]
  },
  {
   "cell_type": "code",
   "execution_count": 95,
   "metadata": {},
   "outputs": [],
   "source": [
    "# drop country_y\n",
    "df_merge.drop('country_y', axis=1, inplace=True)"
   ]
  },
  {
   "cell_type": "code",
   "execution_count": 96,
   "metadata": {},
   "outputs": [],
   "source": [
    "# rename country_x\n",
    "df_merge.rename(columns={'country_x': 'country'}, inplace=True)"
   ]
  },
  {
   "cell_type": "code",
   "execution_count": 97,
   "metadata": {},
   "outputs": [
    {
     "name": "stdout",
     "output_type": "stream",
     "text": [
      "<class 'pandas.core.frame.DataFrame'>\n",
      "Int64Index: 33204 entries, 0 to 33203\n",
      "Data columns (total 9 columns):\n",
      " #   Column      Non-Null Count  Dtype         \n",
      "---  ------      --------------  -----         \n",
      " 0   date        33204 non-null  datetime64[ns]\n",
      " 1   cases       33204 non-null  int64         \n",
      " 2   deaths      33204 non-null  int64         \n",
      " 3   country     33204 non-null  object        \n",
      " 4   iso_2       33204 non-null  object        \n",
      " 5   iso_3       33204 non-null  object        \n",
      " 6   population  33204 non-null  int32         \n",
      " 7   continent   33204 non-null  object        \n",
      " 8   density     33204 non-null  float64       \n",
      "dtypes: datetime64[ns](1), float64(1), int32(1), int64(2), object(4)\n",
      "memory usage: 2.4+ MB\n"
     ]
    }
   ],
   "source": [
    "# check df_merge\n",
    "df_merge.info()"
   ]
  },
  {
   "cell_type": "code",
   "execution_count": 98,
   "metadata": {},
   "outputs": [
    {
     "data": {
      "text/plain": [
       "True"
      ]
     },
     "execution_count": 98,
     "metadata": {},
     "output_type": "execute_result"
    }
   ],
   "source": [
    "# final check to see if the the number of unique countries in df_merge equal to the original df\n",
    "df_merge['country'].nunique() == df['country'].nunique()"
   ]
  },
  {
   "cell_type": "markdown",
   "metadata": {},
   "source": [
    "### Assess `df_merge` and `df_map`"
   ]
  },
  {
   "cell_type": "markdown",
   "metadata": {},
   "source": [
    "Now, I am going to look for countries that are in `df_merge` but not in `df_map`, although, I am neither going to change the map by adding countries to it, nor going to change `df_merge`. Instead, I am going to see if the ISO code was written differently in both DataFrames or other issues were found.\n",
    "\n",
    "I will use `iso_3` as the common column between both DataFrames\n"
   ]
  },
  {
   "cell_type": "code",
   "execution_count": 99,
   "metadata": {},
   "outputs": [
    {
     "data": {
      "text/plain": [
       "array(['Andorra', 'Anguilla', 'Antigua_and_Barbuda', 'Aruba', 'Bahrain',\n",
       "       'Barbados', 'Bermuda', 'Bonaire, Saint Eustatius and Saba',\n",
       "       'British_Virgin_Islands', 'Cape_Verde', 'Cayman_Islands',\n",
       "       'Comoros', 'Curaçao', 'Dominica', 'Faroe_Islands', 'France',\n",
       "       'French_Polynesia', 'Gibraltar', 'Grenada', 'Guam', 'Guernsey',\n",
       "       'Holy_See', 'Isle_of_Man', 'Jersey', 'Kosovo', 'Liechtenstein',\n",
       "       'Maldives', 'Malta', 'Mauritius', 'Monaco', 'Montserrat',\n",
       "       'Northern_Mariana_Islands', 'Norway', 'Saint_Kitts_and_Nevis',\n",
       "       'Saint_Lucia', 'Saint_Vincent_and_the_Grenadines', 'San_Marino',\n",
       "       'Sao_Tome_and_Principe', 'Seychelles', 'Singapore', 'Sint_Maarten',\n",
       "       'Taiwan', 'Turks_and_Caicos_islands',\n",
       "       'United_States_Virgin_Islands'], dtype=object)"
      ]
     },
     "execution_count": 99,
     "metadata": {},
     "output_type": "execute_result"
    }
   ],
   "source": [
    "# check which countries in df thier ISO codes are not in df_ctrys\n",
    "missmatch = df_merge[~df_merge['iso_3'].isin(df_map['iso_3'])]['country'].unique()\n",
    "missmatch"
   ]
  },
  {
   "cell_type": "markdown",
   "metadata": {},
   "source": [
    "As we can see, most of the names in the list are islands and small countries like 'Bahrain' and 'Monaco' except some big countries that I care about to have in the analysis. I will put them in a list as follows:"
   ]
  },
  {
   "cell_type": "code",
   "execution_count": 100,
   "metadata": {},
   "outputs": [],
   "source": [
    "ctrys_list = ['France', 'Kosovo', 'Norway', 'Taiwan']"
   ]
  },
  {
   "cell_type": "code",
   "execution_count": 102,
   "metadata": {},
   "outputs": [
    {
     "data": {
      "text/html": [
       "<div>\n",
       "<style scoped>\n",
       "    .dataframe tbody tr th:only-of-type {\n",
       "        vertical-align: middle;\n",
       "    }\n",
       "\n",
       "    .dataframe tbody tr th {\n",
       "        vertical-align: top;\n",
       "    }\n",
       "\n",
       "    .dataframe thead th {\n",
       "        text-align: right;\n",
       "    }\n",
       "</style>\n",
       "<table border=\"1\" class=\"dataframe\">\n",
       "  <thead>\n",
       "    <tr style=\"text-align: right;\">\n",
       "      <th></th>\n",
       "      <th>continent</th>\n",
       "      <th>country</th>\n",
       "      <th>iso_3</th>\n",
       "      <th>geometry</th>\n",
       "    </tr>\n",
       "  </thead>\n",
       "  <tbody>\n",
       "    <tr>\n",
       "      <th>21</th>\n",
       "      <td>Europe</td>\n",
       "      <td>Norway</td>\n",
       "      <td>-99</td>\n",
       "      <td>MULTIPOLYGON (((15.14282 79.67431, 15.52255 80...</td>\n",
       "    </tr>\n",
       "    <tr>\n",
       "      <th>43</th>\n",
       "      <td>Europe</td>\n",
       "      <td>France</td>\n",
       "      <td>-99</td>\n",
       "      <td>MULTIPOLYGON (((-51.65780 4.15623, -52.24934 3...</td>\n",
       "    </tr>\n",
       "    <tr>\n",
       "      <th>140</th>\n",
       "      <td>Asia</td>\n",
       "      <td>Taiwan</td>\n",
       "      <td>TWN</td>\n",
       "      <td>POLYGON ((121.77782 24.39427, 121.17563 22.790...</td>\n",
       "    </tr>\n",
       "    <tr>\n",
       "      <th>174</th>\n",
       "      <td>Europe</td>\n",
       "      <td>Kosovo</td>\n",
       "      <td>-99</td>\n",
       "      <td>POLYGON ((20.59025 41.85541, 20.52295 42.21787...</td>\n",
       "    </tr>\n",
       "  </tbody>\n",
       "</table>\n",
       "</div>"
      ],
      "text/plain": [
       "    continent country iso_3                                           geometry\n",
       "21     Europe  Norway   -99  MULTIPOLYGON (((15.14282 79.67431, 15.52255 80...\n",
       "43     Europe  France   -99  MULTIPOLYGON (((-51.65780 4.15623, -52.24934 3...\n",
       "140      Asia  Taiwan   TWN  POLYGON ((121.77782 24.39427, 121.17563 22.790...\n",
       "174    Europe  Kosovo   -99  POLYGON ((20.59025 41.85541, 20.52295 42.21787..."
      ]
     },
     "execution_count": 102,
     "metadata": {},
     "output_type": "execute_result"
    }
   ],
   "source": [
    "# retrieve the entries from df_map for above countries\n",
    "df_map[df_map['country'].isin(ctrys_list)]"
   ]
  },
  {
   "cell_type": "markdown",
   "metadata": {},
   "source": [
    "After checking 'Taiwan' iso_3 code using [iban.com](https://www.iban.com/country-codes) , the code is correct. Now, let's see if those country names are available in `df_merege`"
   ]
  },
  {
   "cell_type": "code",
   "execution_count": 104,
   "metadata": {},
   "outputs": [
    {
     "data": {
      "text/html": [
       "<div>\n",
       "<style scoped>\n",
       "    .dataframe tbody tr th:only-of-type {\n",
       "        vertical-align: middle;\n",
       "    }\n",
       "\n",
       "    .dataframe tbody tr th {\n",
       "        vertical-align: top;\n",
       "    }\n",
       "\n",
       "    .dataframe thead th {\n",
       "        text-align: right;\n",
       "    }\n",
       "</style>\n",
       "<table border=\"1\" class=\"dataframe\">\n",
       "  <thead>\n",
       "    <tr style=\"text-align: right;\">\n",
       "      <th></th>\n",
       "      <th>country</th>\n",
       "      <th>iso_3</th>\n",
       "    </tr>\n",
       "  </thead>\n",
       "  <tbody>\n",
       "    <tr>\n",
       "      <th>10995</th>\n",
       "      <td>France</td>\n",
       "      <td>FRA</td>\n",
       "    </tr>\n",
       "    <tr>\n",
       "      <th>11014</th>\n",
       "      <td>France</td>\n",
       "      <td>FRA</td>\n",
       "    </tr>\n",
       "    <tr>\n",
       "      <th>23096</th>\n",
       "      <td>Norway</td>\n",
       "      <td>NOR</td>\n",
       "    </tr>\n",
       "    <tr>\n",
       "      <th>10942</th>\n",
       "      <td>France</td>\n",
       "      <td>FRA</td>\n",
       "    </tr>\n",
       "    <tr>\n",
       "      <th>11116</th>\n",
       "      <td>France</td>\n",
       "      <td>FRA</td>\n",
       "    </tr>\n",
       "    <tr>\n",
       "      <th>16857</th>\n",
       "      <td>Kosovo</td>\n",
       "      <td>XKX</td>\n",
       "    </tr>\n",
       "    <tr>\n",
       "      <th>16836</th>\n",
       "      <td>Kosovo</td>\n",
       "      <td>XKX</td>\n",
       "    </tr>\n",
       "    <tr>\n",
       "      <th>16883</th>\n",
       "      <td>Kosovo</td>\n",
       "      <td>XKX</td>\n",
       "    </tr>\n",
       "    <tr>\n",
       "      <th>10985</th>\n",
       "      <td>France</td>\n",
       "      <td>FRA</td>\n",
       "    </tr>\n",
       "    <tr>\n",
       "      <th>29733</th>\n",
       "      <td>Taiwan</td>\n",
       "      <td>CNG1925</td>\n",
       "    </tr>\n",
       "  </tbody>\n",
       "</table>\n",
       "</div>"
      ],
      "text/plain": [
       "      country    iso_3\n",
       "10995  France      FRA\n",
       "11014  France      FRA\n",
       "23096  Norway      NOR\n",
       "10942  France      FRA\n",
       "11116  France      FRA\n",
       "16857  Kosovo      XKX\n",
       "16836  Kosovo      XKX\n",
       "16883  Kosovo      XKX\n",
       "10985  France      FRA\n",
       "29733  Taiwan  CNG1925"
      ]
     },
     "execution_count": 104,
     "metadata": {},
     "output_type": "execute_result"
    }
   ],
   "source": [
    "# check how iso code is written in df_merge for above countries\n",
    "df_merge[df_merge['country'].isin(ctrys_list)][['country', 'iso_3']].sample(10)"
   ]
  },
  {
   "cell_type": "markdown",
   "metadata": {},
   "source": [
    "So we can conclude that 'France', 'Norway', and 'Kosovo' have a wrong ISO code written in `df_map`, while 'Tiwan' has a wrong ISO code written in `df_merge`."
   ]
  },
  {
   "cell_type": "code",
   "execution_count": 101,
   "metadata": {},
   "outputs": [
    {
     "data": {
      "text/html": [
       "<div>\n",
       "<style scoped>\n",
       "    .dataframe tbody tr th:only-of-type {\n",
       "        vertical-align: middle;\n",
       "    }\n",
       "\n",
       "    .dataframe tbody tr th {\n",
       "        vertical-align: top;\n",
       "    }\n",
       "\n",
       "    .dataframe thead th {\n",
       "        text-align: right;\n",
       "    }\n",
       "</style>\n",
       "<table border=\"1\" class=\"dataframe\">\n",
       "  <thead>\n",
       "    <tr style=\"text-align: right;\">\n",
       "      <th></th>\n",
       "      <th>continent</th>\n",
       "      <th>country</th>\n",
       "      <th>iso_3</th>\n",
       "      <th>geometry</th>\n",
       "    </tr>\n",
       "  </thead>\n",
       "  <tbody>\n",
       "    <tr>\n",
       "      <th>21</th>\n",
       "      <td>Europe</td>\n",
       "      <td>Norway</td>\n",
       "      <td>-99</td>\n",
       "      <td>MULTIPOLYGON (((15.14282 79.67431, 15.52255 80...</td>\n",
       "    </tr>\n",
       "    <tr>\n",
       "      <th>23</th>\n",
       "      <td>Seven seas (open ocean)</td>\n",
       "      <td>Fr. S. Antarctic Lands</td>\n",
       "      <td>ATF</td>\n",
       "      <td>POLYGON ((68.93500 -48.62500, 69.58000 -48.940...</td>\n",
       "    </tr>\n",
       "    <tr>\n",
       "      <th>43</th>\n",
       "      <td>Europe</td>\n",
       "      <td>France</td>\n",
       "      <td>-99</td>\n",
       "      <td>MULTIPOLYGON (((-51.65780 4.15623, -52.24934 3...</td>\n",
       "    </tr>\n",
       "    <tr>\n",
       "      <th>89</th>\n",
       "      <td>Oceania</td>\n",
       "      <td>Vanuatu</td>\n",
       "      <td>VUT</td>\n",
       "      <td>MULTIPOLYGON (((167.21680 -15.89185, 167.84488...</td>\n",
       "    </tr>\n",
       "    <tr>\n",
       "      <th>95</th>\n",
       "      <td>Asia</td>\n",
       "      <td>North Korea</td>\n",
       "      <td>PRK</td>\n",
       "      <td>MULTIPOLYGON (((130.78000 42.22001, 130.78000 ...</td>\n",
       "    </tr>\n",
       "    <tr>\n",
       "      <th>106</th>\n",
       "      <td>Asia</td>\n",
       "      <td>Turkmenistan</td>\n",
       "      <td>TKM</td>\n",
       "      <td>POLYGON ((52.50246 41.78332, 52.94429 42.11603...</td>\n",
       "    </tr>\n",
       "    <tr>\n",
       "      <th>135</th>\n",
       "      <td>Oceania</td>\n",
       "      <td>Solomon Is.</td>\n",
       "      <td>SLB</td>\n",
       "      <td>MULTIPOLYGON (((162.11902 -10.48272, 162.39865...</td>\n",
       "    </tr>\n",
       "    <tr>\n",
       "      <th>140</th>\n",
       "      <td>Asia</td>\n",
       "      <td>Taiwan</td>\n",
       "      <td>TWN</td>\n",
       "      <td>POLYGON ((121.77782 24.39427, 121.17563 22.790...</td>\n",
       "    </tr>\n",
       "    <tr>\n",
       "      <th>160</th>\n",
       "      <td>Asia</td>\n",
       "      <td>N. Cyprus</td>\n",
       "      <td>-99</td>\n",
       "      <td>POLYGON ((32.73178 35.14003, 32.80247 35.14550...</td>\n",
       "    </tr>\n",
       "    <tr>\n",
       "      <th>167</th>\n",
       "      <td>Africa</td>\n",
       "      <td>Somaliland</td>\n",
       "      <td>-99</td>\n",
       "      <td>POLYGON ((48.94820 11.41062, 48.94820 11.41062...</td>\n",
       "    </tr>\n",
       "    <tr>\n",
       "      <th>174</th>\n",
       "      <td>Europe</td>\n",
       "      <td>Kosovo</td>\n",
       "      <td>-99</td>\n",
       "      <td>POLYGON ((20.59025 41.85541, 20.52295 42.21787...</td>\n",
       "    </tr>\n",
       "  </tbody>\n",
       "</table>\n",
       "</div>"
      ],
      "text/plain": [
       "                   continent                 country iso_3  \\\n",
       "21                    Europe                  Norway   -99   \n",
       "23   Seven seas (open ocean)  Fr. S. Antarctic Lands   ATF   \n",
       "43                    Europe                  France   -99   \n",
       "89                   Oceania                 Vanuatu   VUT   \n",
       "95                      Asia             North Korea   PRK   \n",
       "106                     Asia            Turkmenistan   TKM   \n",
       "135                  Oceania             Solomon Is.   SLB   \n",
       "140                     Asia                  Taiwan   TWN   \n",
       "160                     Asia               N. Cyprus   -99   \n",
       "167                   Africa              Somaliland   -99   \n",
       "174                   Europe                  Kosovo   -99   \n",
       "\n",
       "                                              geometry  \n",
       "21   MULTIPOLYGON (((15.14282 79.67431, 15.52255 80...  \n",
       "23   POLYGON ((68.93500 -48.62500, 69.58000 -48.940...  \n",
       "43   MULTIPOLYGON (((-51.65780 4.15623, -52.24934 3...  \n",
       "89   MULTIPOLYGON (((167.21680 -15.89185, 167.84488...  \n",
       "95   MULTIPOLYGON (((130.78000 42.22001, 130.78000 ...  \n",
       "106  POLYGON ((52.50246 41.78332, 52.94429 42.11603...  \n",
       "135  MULTIPOLYGON (((162.11902 -10.48272, 162.39865...  \n",
       "140  POLYGON ((121.77782 24.39427, 121.17563 22.790...  \n",
       "160  POLYGON ((32.73178 35.14003, 32.80247 35.14550...  \n",
       "167  POLYGON ((48.94820 11.41062, 48.94820 11.41062...  \n",
       "174  POLYGON ((20.59025 41.85541, 20.52295 42.21787...  "
      ]
     },
     "execution_count": 101,
     "metadata": {},
     "output_type": "execute_result"
    }
   ],
   "source": [
    "# let's check the county names in df_map but not in df_merge\n",
    "df_map[~df_map['iso_3'].isin(df_merge['iso_3'])]"
   ]
  },
  {
   "cell_type": "markdown",
   "metadata": {},
   "source": [
    "After fixing 'France', 'Kosovo', 'Norway', and 'Taiwan', we will have some entities that is not available in `df_merge`. Most likely because they have not yet recorded cases."
   ]
  },
  {
   "cell_type": "markdown",
   "metadata": {},
   "source": [
    "### To Clean for Merging:\n",
    "#### `df_merge` with `df_map`\n",
    "1. Change the ISO codes in `df_map` for 'Norway', 'France', and 'Kosovo'\n",
    "2. Change the ISO code in `df_merge` for 'Tiawan'\n",
    "\n",
    "### Clean"
   ]
  },
  {
   "cell_type": "code",
   "execution_count": 105,
   "metadata": {},
   "outputs": [],
   "source": [
    "# make copy of df_merge and df_map\n",
    "df_merge_copy = df_merge.copy()\n",
    "df_map_copy = df_map.copy()"
   ]
  },
  {
   "cell_type": "markdown",
   "metadata": {},
   "source": [
    "#### 1.  'Norway', 'France', and 'Kosovo' ISO code in `df_map` is not correct\n",
    "##### <font color =blue>Define</font>\n",
    "- Change them by assinging new values using `df.loc` method\n",
    "\n",
    "##### <font color =blue>Code</font>"
   ]
  },
  {
   "cell_type": "code",
   "execution_count": 106,
   "metadata": {},
   "outputs": [],
   "source": [
    "# change Norway, France, Kosovo iso codes\n",
    "df_map_copy.loc[df_map_copy['country']=='Norway', 'iso_3'] = 'NOR'\n",
    "df_map_copy.loc[df_map_copy['country']=='France', 'iso_3'] = 'FRA'\n",
    "df_map_copy.loc[df_map_copy['country']=='Kosovo', 'iso_3'] = 'XKX'"
   ]
  },
  {
   "cell_type": "markdown",
   "metadata": {},
   "source": [
    "##### <font color =blue>Test</font>"
   ]
  },
  {
   "cell_type": "code",
   "execution_count": 107,
   "metadata": {},
   "outputs": [
    {
     "data": {
      "text/html": [
       "<div>\n",
       "<style scoped>\n",
       "    .dataframe tbody tr th:only-of-type {\n",
       "        vertical-align: middle;\n",
       "    }\n",
       "\n",
       "    .dataframe tbody tr th {\n",
       "        vertical-align: top;\n",
       "    }\n",
       "\n",
       "    .dataframe thead th {\n",
       "        text-align: right;\n",
       "    }\n",
       "</style>\n",
       "<table border=\"1\" class=\"dataframe\">\n",
       "  <thead>\n",
       "    <tr style=\"text-align: right;\">\n",
       "      <th></th>\n",
       "      <th>continent</th>\n",
       "      <th>country</th>\n",
       "      <th>iso_3</th>\n",
       "      <th>geometry</th>\n",
       "    </tr>\n",
       "  </thead>\n",
       "  <tbody>\n",
       "    <tr>\n",
       "      <th>21</th>\n",
       "      <td>Europe</td>\n",
       "      <td>Norway</td>\n",
       "      <td>NOR</td>\n",
       "      <td>MULTIPOLYGON (((15.14282 79.67431, 15.52255 80...</td>\n",
       "    </tr>\n",
       "    <tr>\n",
       "      <th>43</th>\n",
       "      <td>Europe</td>\n",
       "      <td>France</td>\n",
       "      <td>FRA</td>\n",
       "      <td>MULTIPOLYGON (((-51.65780 4.15623, -52.24934 3...</td>\n",
       "    </tr>\n",
       "    <tr>\n",
       "      <th>140</th>\n",
       "      <td>Asia</td>\n",
       "      <td>Taiwan</td>\n",
       "      <td>TWN</td>\n",
       "      <td>POLYGON ((121.77782 24.39427, 121.17563 22.790...</td>\n",
       "    </tr>\n",
       "    <tr>\n",
       "      <th>174</th>\n",
       "      <td>Europe</td>\n",
       "      <td>Kosovo</td>\n",
       "      <td>XKX</td>\n",
       "      <td>POLYGON ((20.59025 41.85541, 20.52295 42.21787...</td>\n",
       "    </tr>\n",
       "  </tbody>\n",
       "</table>\n",
       "</div>"
      ],
      "text/plain": [
       "    continent country iso_3                                           geometry\n",
       "21     Europe  Norway   NOR  MULTIPOLYGON (((15.14282 79.67431, 15.52255 80...\n",
       "43     Europe  France   FRA  MULTIPOLYGON (((-51.65780 4.15623, -52.24934 3...\n",
       "140      Asia  Taiwan   TWN  POLYGON ((121.77782 24.39427, 121.17563 22.790...\n",
       "174    Europe  Kosovo   XKX  POLYGON ((20.59025 41.85541, 20.52295 42.21787..."
      ]
     },
     "execution_count": 107,
     "metadata": {},
     "output_type": "execute_result"
    }
   ],
   "source": [
    "df_map_copy[df_map_copy['country'].isin(ctrys_list)]"
   ]
  },
  {
   "cell_type": "markdown",
   "metadata": {},
   "source": [
    "#### 2.  'Taiwan' ISO code in `df_merge` is not correct\n",
    "##### <font color =blue>Define</font>\n",
    "- Change it by assigning new value using `df.loc` method\n",
    "\n",
    "##### <font color =blue>Code</font>"
   ]
  },
  {
   "cell_type": "code",
   "execution_count": 108,
   "metadata": {},
   "outputs": [],
   "source": [
    "df_merge_copy.loc[df_merge_copy['country']=='Taiwan', 'iso_3'] = 'TWN'"
   ]
  },
  {
   "cell_type": "markdown",
   "metadata": {},
   "source": [
    "##### <font color =blue>Test</font>"
   ]
  },
  {
   "cell_type": "code",
   "execution_count": 109,
   "metadata": {},
   "outputs": [
    {
     "data": {
      "text/html": [
       "<div>\n",
       "<style scoped>\n",
       "    .dataframe tbody tr th:only-of-type {\n",
       "        vertical-align: middle;\n",
       "    }\n",
       "\n",
       "    .dataframe tbody tr th {\n",
       "        vertical-align: top;\n",
       "    }\n",
       "\n",
       "    .dataframe thead th {\n",
       "        text-align: right;\n",
       "    }\n",
       "</style>\n",
       "<table border=\"1\" class=\"dataframe\">\n",
       "  <thead>\n",
       "    <tr style=\"text-align: right;\">\n",
       "      <th></th>\n",
       "      <th>date</th>\n",
       "      <th>cases</th>\n",
       "      <th>deaths</th>\n",
       "      <th>country</th>\n",
       "      <th>iso_2</th>\n",
       "      <th>iso_3</th>\n",
       "      <th>population</th>\n",
       "      <th>continent</th>\n",
       "      <th>density</th>\n",
       "    </tr>\n",
       "  </thead>\n",
       "  <tbody>\n",
       "    <tr>\n",
       "      <th>29587</th>\n",
       "      <td>2020-07-31</td>\n",
       "      <td>0</td>\n",
       "      <td>0</td>\n",
       "      <td>Taiwan</td>\n",
       "      <td>TW</td>\n",
       "      <td>TWN</td>\n",
       "      <td>23773881</td>\n",
       "      <td>Asia</td>\n",
       "      <td>673.0</td>\n",
       "    </tr>\n",
       "    <tr>\n",
       "      <th>29588</th>\n",
       "      <td>2020-07-30</td>\n",
       "      <td>0</td>\n",
       "      <td>0</td>\n",
       "      <td>Taiwan</td>\n",
       "      <td>TW</td>\n",
       "      <td>TWN</td>\n",
       "      <td>23773881</td>\n",
       "      <td>Asia</td>\n",
       "      <td>673.0</td>\n",
       "    </tr>\n",
       "    <tr>\n",
       "      <th>29589</th>\n",
       "      <td>2020-07-29</td>\n",
       "      <td>0</td>\n",
       "      <td>0</td>\n",
       "      <td>Taiwan</td>\n",
       "      <td>TW</td>\n",
       "      <td>TWN</td>\n",
       "      <td>23773881</td>\n",
       "      <td>Asia</td>\n",
       "      <td>673.0</td>\n",
       "    </tr>\n",
       "    <tr>\n",
       "      <th>29590</th>\n",
       "      <td>2020-07-28</td>\n",
       "      <td>5</td>\n",
       "      <td>0</td>\n",
       "      <td>Taiwan</td>\n",
       "      <td>TW</td>\n",
       "      <td>TWN</td>\n",
       "      <td>23773881</td>\n",
       "      <td>Asia</td>\n",
       "      <td>673.0</td>\n",
       "    </tr>\n",
       "    <tr>\n",
       "      <th>29591</th>\n",
       "      <td>2020-07-27</td>\n",
       "      <td>4</td>\n",
       "      <td>0</td>\n",
       "      <td>Taiwan</td>\n",
       "      <td>TW</td>\n",
       "      <td>TWN</td>\n",
       "      <td>23773881</td>\n",
       "      <td>Asia</td>\n",
       "      <td>673.0</td>\n",
       "    </tr>\n",
       "  </tbody>\n",
       "</table>\n",
       "</div>"
      ],
      "text/plain": [
       "            date  cases  deaths country iso_2 iso_3  population continent  \\\n",
       "29587 2020-07-31      0       0  Taiwan    TW   TWN    23773881      Asia   \n",
       "29588 2020-07-30      0       0  Taiwan    TW   TWN    23773881      Asia   \n",
       "29589 2020-07-29      0       0  Taiwan    TW   TWN    23773881      Asia   \n",
       "29590 2020-07-28      5       0  Taiwan    TW   TWN    23773881      Asia   \n",
       "29591 2020-07-27      4       0  Taiwan    TW   TWN    23773881      Asia   \n",
       "\n",
       "       density  \n",
       "29587    673.0  \n",
       "29588    673.0  \n",
       "29589    673.0  \n",
       "29590    673.0  \n",
       "29591    673.0  "
      ]
     },
     "execution_count": 109,
     "metadata": {},
     "output_type": "execute_result"
    }
   ],
   "source": [
    "df_merge_copy[df_merge_copy['country']=='Taiwan'].head()"
   ]
  },
  {
   "cell_type": "markdown",
   "metadata": {},
   "source": [
    "### Saving The Files for Exploration\n",
    "Now, I will save `df_merge_copy` and `df_map_copy` to the local disk, then retrieve them in the exploration phase"
   ]
  },
  {
   "cell_type": "code",
   "execution_count": 110,
   "metadata": {},
   "outputs": [],
   "source": [
    "df_merge_copy.to_csv('covid_19_clean.csv', index=False)\n",
    "df_map_copy.to_file('world_map.shp')"
   ]
  }
 ],
 "metadata": {
  "kernelspec": {
   "display_name": "Python 3",
   "language": "python",
   "name": "python3"
  },
  "language_info": {
   "codemirror_mode": {
    "name": "ipython",
    "version": 3
   },
   "file_extension": ".py",
   "mimetype": "text/x-python",
   "name": "python",
   "nbconvert_exporter": "python",
   "pygments_lexer": "ipython3",
   "version": "3.7.3"
  }
 },
 "nbformat": 4,
 "nbformat_minor": 2
}
